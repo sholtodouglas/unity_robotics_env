{
 "cells": [
  {
   "cell_type": "code",
   "execution_count": 1,
   "id": "989da68b",
   "metadata": {},
   "outputs": [],
   "source": [
    "import rospy\n",
    "from robotics_demo.msg import JointPositions, Observation, AchievedGoal, PositionCommand, RPYProprioState, Velocities, ResetInfo, Reengage\n",
    "from robotics_demo.srv import getIK, getIKResponse, getState, getStateResponse\n",
    "import time"
   ]
  },
  {
   "cell_type": "code",
   "execution_count": 2,
   "id": "b85b1008",
   "metadata": {},
   "outputs": [
    {
     "name": "stdout",
     "output_type": "stream",
     "text": [
      "current_dir=/catkin_ws/src/unity_robotics_env/robotics_demo/scripts\n"
     ]
    }
   ],
   "source": [
    "import numpy as np\n",
    "import os, inspect\n",
    "import matplotlib.pyplot as plt\n",
    "AVG_MODEL_PROCESSING_TIME = 0.033\n",
    "currentdir = os.path.dirname(os.path.abspath(inspect.getfile(inspect.currentframe())))\n",
    "print(\"current_dir=\" + currentdir)\n",
    "os.sys.path.insert(0, currentdir)\n",
    "from utils import rosImg_to_numpy, proprio_quat_to_rpy_vector, \\\n",
    "        proprio_rpy_to_ROSmsg, ag_to_vector, ag_to_ROSmsg,\\\n",
    "        proprio_rpy_to_rpy_vector, unstack, act_to_jointPositionsROSmsg"
   ]
  },
  {
   "cell_type": "code",
   "execution_count": 3,
   "id": "29c495a4",
   "metadata": {},
   "outputs": [],
   "source": [
    "# The publisher which sends out position commands that then get converted to joint commands by the IK node\n",
    "pos_cmd_pub = rospy.Publisher('xyz_rpy_g_command', PositionCommand, queue_size=1)\n",
    "# The publisher which resets the non_arm elements of the state\n",
    "env_reset_pub = rospy.Publisher('full_reset', ResetInfo, queue_size=1)\n",
    "env_reEngage_physics_pub = rospy.Publisher('re_engage_physics', Reengage, queue_size=1)\n",
    "env_reEngage_collision_pub = rospy.Publisher('re_engage_collision', Reengage, queue_size=1)\n",
    "# service to get IK \n",
    "IK = rospy.ServiceProxy('get_IK', getIK)\n",
    "getStateServ = rospy.ServiceProxy('getState', getState)"
   ]
  },
  {
   "cell_type": "code",
   "execution_count": 21,
   "id": "29ed520b",
   "metadata": {},
   "outputs": [
    {
     "data": {
      "text/plain": [
       "['0', '1', '10', '11', '2', '3', '4', '5', '6', '7', '8', '9']"
      ]
     },
     "execution_count": 21,
     "metadata": {},
     "output_type": "execute_result"
    }
   ],
   "source": [
    "# First things first, lets load some data! \n",
    "DATA_PATH = os.getcwd()[:-(len(\"/robotics_demo/scripts\"))]+'/data/UR5/'\n",
    "OBS_ACT_PATH = DATA_PATH+'obs_act_etc/'\n",
    "IMS_PATH = DATA_PATH+'states_and_ims/'\n",
    "TIME_FREQUENCY = 15\n",
    "default_vr_controller_pos =  RPYProprioState(-0.4, 0.2, 0.0,0.0,0.0,0.0,0.0)\n",
    "os.listdir(OBS_ACT_PATH)"
   ]
  },
  {
   "cell_type": "code",
   "execution_count": 5,
   "id": "835d7caf",
   "metadata": {},
   "outputs": [],
   "source": [
    "rospy.init_node('jupyter')"
   ]
  },
  {
   "cell_type": "code",
   "execution_count": 22,
   "id": "f14793b2",
   "metadata": {},
   "outputs": [],
   "source": [
    "\n",
    "    \n",
    "def process_observation():\n",
    "    '''\n",
    "    The full state will be sent out at Nh > controlHz by the env, listen to it, and save the relevant parts\n",
    "    '''\n",
    "\n",
    "    o = getStateServ(int(1)).state\n",
    "    proprioceptive_state  = proprio_quat_to_rpy_vector(o.proprio)\n",
    "    achieved_goal = ag_to_vector(o.ag)\n",
    "    full_state = np.concatenate([proprioceptive_state, achieved_goal])\n",
    "    # process the images\n",
    "    shoulder_image  = rosImg_to_numpy(o.shoulderImage)\n",
    "    gripper_image = rosImg_to_numpy(o.gripperImage)\n",
    "    return proprioceptive_state, achieved_goal, shoulder_image, gripper_image\n",
    "\n",
    "\n",
    "def check_reset_convergence(proprio, ag, current_proprio, current_ag, threshold = 0.01):\n",
    "    proprio_checks = abs(proprio - current_proprio) < threshold\n",
    "    ag_checks = abs(ag-current_ag) < threshold\n",
    "    all_checks = np.concatenate([proprio_checks, ag_checks])\n",
    "    return all_checks\n",
    "#     if np.all(all_checks):\n",
    "#         return True\n",
    "#     else:\n",
    "#         return False\n",
    "    \n",
    "def converge_on_reset(proprio, ag, threshold = 0.05):\n",
    "    t_start = time.time()\n",
    "    r = rospy.Rate(10) # 10hz \n",
    "    while not rospy.is_shutdown():\n",
    "        t = time.time()\n",
    "        current_arm, current_ag, _,_ = process_observation()\n",
    "        checks = check_reset_convergence(proprio, ag, current_arm, current_ag, threshold)\n",
    "        if (t > t_start+1):\n",
    "            idxs = np.where(checks == False)\n",
    "#             print(idxs, proprio[idxs], current_arm[idxs])\n",
    "            return\n",
    "        elif np.all(checks):\n",
    "            return\n",
    "        r.sleep() # ros sleep for a little while before checking convergence again\n",
    "    "
   ]
  },
  {
   "cell_type": "code",
   "execution_count": 23,
   "id": "9b4cb20d",
   "metadata": {},
   "outputs": [
    {
     "name": "stdout",
     "output_type": "stream",
     "text": [
      "5780 0\n",
      "2310 1\n",
      "1643 10\n",
      "235 11\n",
      "349 2\n",
      "2129 3\n",
      "2363 4\n",
      "2746 5\n",
      "3214 6\n",
      "3620 7\n",
      "1838 8\n",
      "2908 9\n",
      "29135\n"
     ]
    }
   ],
   "source": [
    "collected = 0\n",
    "for i in os.listdir(OBS_ACT_PATH):\n",
    "    test = np.load(f\"{OBS_ACT_PATH}/{int(i)}/data.npz\", allow_pickle=True)\n",
    "    obs, acts, ags, times = test['obs'], test['acts'], test['achieved_goals'], test['times']\n",
    "    collected += len(obs)\n",
    "    print(len(obs), i)\n",
    "print(collected)"
   ]
  },
  {
   "cell_type": "code",
   "execution_count": 26,
   "id": "be09d269",
   "metadata": {},
   "outputs": [],
   "source": [
    "\n",
    "\n",
    "def reset_to(arm, ag, prev_act = np.zeros(7)):\n",
    "    \n",
    "    arm_msg = proprio_rpy_to_ROSmsg(arm)\n",
    "    prev_act = act_to_jointPositionsROSmsg(prev_act)\n",
    "    # Get IK for actual position\n",
    "    prev_act = JointPositions()\n",
    "    \n",
    "    \n",
    "    # Package into ResetInfo\n",
    "    for i in range(0,2):\n",
    "        joints = IK(arm_msg, prev_act).joints # once to align it with the prev acts\n",
    "        r = ResetInfo(joints, ag_to_ROSmsg(ag), Velocities())\n",
    "        # Send down\n",
    "        env_reset_pub.publish(r)\n",
    "    converge_on_reset(arm, ag, threshold = 0.05)\n",
    "    env_reEngage_collision_pub.publish(Reengage())\n",
    "    time.sleep(1/TIME_FREQUENCY)\n",
    "    \n",
    "    "
   ]
  },
  {
   "cell_type": "code",
   "execution_count": 27,
   "id": "f1c9627f",
   "metadata": {},
   "outputs": [
    {
     "name": "stdout",
     "output_type": "stream",
     "text": [
      "2363\n"
     ]
    }
   ],
   "source": [
    "test = np.load(f\"{OBS_ACT_PATH}/4/data.npz\", allow_pickle=True)\n",
    "obs, acts, ags, times = test['obs'], test['acts'], test['achieved_goals'], test['times']\n",
    "proprio = obs[:, :7]\n",
    "print(len(acts))"
   ]
  },
  {
   "cell_type": "code",
   "execution_count": 34,
   "id": "aec36c45",
   "metadata": {},
   "outputs": [],
   "source": [
    "i = 0\n",
    "#p[-1] = 1.0\n",
    "reset_to(proprio[i,:], ags[i,:])\n",
    "TIME_FREQUENCY = 15"
   ]
  },
  {
   "cell_type": "code",
   "execution_count": 33,
   "id": "50640ec8",
   "metadata": {},
   "outputs": [
    {
     "ename": "KeyboardInterrupt",
     "evalue": "",
     "output_type": "error",
     "traceback": [
      "\u001b[0;31m---------------------------------------------------------------------------\u001b[0m",
      "\u001b[0;31mKeyboardInterrupt\u001b[0m                         Traceback (most recent call last)",
      "\u001b[0;32m<ipython-input-33-e7426476984a>\u001b[0m in \u001b[0;36m<module>\u001b[0;34m\u001b[0m\n\u001b[1;32m      8\u001b[0m         \u001b[0;32mtry\u001b[0m\u001b[0;34m:\u001b[0m\u001b[0;34m\u001b[0m\u001b[0;34m\u001b[0m\u001b[0m\n\u001b[1;32m      9\u001b[0m             \u001b[0mnext_time\u001b[0m \u001b[0;34m=\u001b[0m \u001b[0mnext_time\u001b[0m \u001b[0;34m+\u001b[0m \u001b[0;36m1\u001b[0m\u001b[0;34m/\u001b[0m\u001b[0mTIME_FREQUENCY\u001b[0m\u001b[0;34m\u001b[0m\u001b[0;34m\u001b[0m\u001b[0m\n\u001b[0;32m---> 10\u001b[0;31m             \u001b[0mtime\u001b[0m\u001b[0;34m.\u001b[0m\u001b[0msleep\u001b[0m\u001b[0;34m(\u001b[0m\u001b[0mAVG_MODEL_PROCESSING_TIME\u001b[0m\u001b[0;34m)\u001b[0m\u001b[0;34m\u001b[0m\u001b[0;34m\u001b[0m\u001b[0m\n\u001b[0m\u001b[1;32m     11\u001b[0m             \u001b[0mpos_cmd_pub\u001b[0m\u001b[0;34m.\u001b[0m\u001b[0mpublish\u001b[0m\u001b[0;34m(\u001b[0m\u001b[0mproprio_rpy_to_ROSmsg\u001b[0m\u001b[0;34m(\u001b[0m\u001b[0macts\u001b[0m\u001b[0;34m[\u001b[0m\u001b[0mi\u001b[0m\u001b[0;34m,\u001b[0m\u001b[0;34m:\u001b[0m\u001b[0;34m]\u001b[0m\u001b[0;34m)\u001b[0m\u001b[0;34m)\u001b[0m\u001b[0;34m\u001b[0m\u001b[0;34m\u001b[0m\u001b[0m\n\u001b[1;32m     12\u001b[0m             \u001b[0mi\u001b[0m \u001b[0;34m+=\u001b[0m \u001b[0;36m1\u001b[0m\u001b[0;34m\u001b[0m\u001b[0;34m\u001b[0m\u001b[0m\n",
      "\u001b[0;31mKeyboardInterrupt\u001b[0m: "
     ]
    }
   ],
   "source": [
    "env_reEngage_physics_pub.publish(Reengage())\n",
    "t0 = time.time()\n",
    "next_time = t0 + 1/TIME_FREQUENCY\n",
    "while not rospy.is_shutdown() and i < len(acts):\n",
    "    t = time.time()\n",
    "    if t >= next_time:\n",
    "        # Triggers corelogic acting\n",
    "        try:\n",
    "            next_time = next_time + 1/TIME_FREQUENCY\n",
    "            time.sleep(AVG_MODEL_PROCESSING_TIME)\n",
    "            pos_cmd_pub.publish(proprio_rpy_to_ROSmsg(acts[i,:]))\n",
    "            i += 1\n",
    "        except Exception as e:\n",
    "            print(e)\n",
    "            break"
   ]
  },
  {
   "cell_type": "code",
   "execution_count": 33,
   "id": "c54db6f3",
   "metadata": {},
   "outputs": [
    {
     "data": {
      "text/plain": [
       "array([-4.21386331e-01,  4.97372478e-01,  3.53975385e-01,  1.58290440e-01,\n",
       "       -1.77553100e-01,  5.35593679e-02,  1.39999393e-04])"
      ]
     },
     "execution_count": 33,
     "metadata": {},
     "output_type": "execute_result"
    }
   ],
   "source": [
    "current_arm, current_ag, _,_ = process_observation()\n",
    "current_arm"
   ]
  },
  {
   "cell_type": "code",
   "execution_count": 128,
   "id": "956f5be1",
   "metadata": {},
   "outputs": [
    {
     "name": "stdout",
     "output_type": "stream",
     "text": [
      "110\n",
      "111\n",
      "112\n",
      "113\n",
      "114\n",
      "115\n",
      "116\n",
      "117\n",
      "118\n",
      "119\n",
      "120\n",
      "121\n",
      "122\n",
      "123\n",
      "124\n",
      "125\n",
      "126\n",
      "127\n",
      "128\n",
      "129\n",
      "130\n",
      "131\n",
      "132\n",
      "133\n",
      "134\n",
      "135\n",
      "136\n",
      "137\n",
      "138\n",
      "139\n",
      "140\n",
      "141\n",
      "142\n",
      "143\n",
      "144\n",
      "145\n",
      "146\n",
      "147\n",
      "148\n",
      "149\n"
     ]
    }
   ],
   "source": [
    "for i in range(110, 150):\n",
    "    print(i)\n",
    "    reset_to(proprio[i,:], ags[i,:], acts[i,:])"
   ]
  },
  {
   "cell_type": "code",
   "execution_count": 11,
   "id": "e794fa64",
   "metadata": {},
   "outputs": [],
   "source": []
  },
  {
   "cell_type": "code",
   "execution_count": 29,
   "id": "c41d1b7b",
   "metadata": {},
   "outputs": [
    {
     "name": "stdout",
     "output_type": "stream",
     "text": [
      "111\n",
      "112\n",
      "113\n",
      "114\n",
      "115\n",
      "116\n",
      "117\n",
      "118\n",
      "119\n",
      "120\n",
      "121\n",
      "122\n",
      "123\n",
      "124\n",
      "125\n"
     ]
    },
    {
     "ename": "KeyboardInterrupt",
     "evalue": "",
     "output_type": "error",
     "traceback": [
      "\u001b[0;31m---------------------------------------------------------------------\u001b[0m",
      "\u001b[0;31mKeyboardInterrupt\u001b[0m                   Traceback (most recent call last)",
      "\u001b[0;32m<ipython-input-29-b9de43ac51e2>\u001b[0m in \u001b[0;36m<module>\u001b[0;34m\u001b[0m\n\u001b[1;32m     10\u001b[0m         \u001b[0mprint\u001b[0m\u001b[0;34m(\u001b[0m\u001b[0me\u001b[0m\u001b[0;34m)\u001b[0m\u001b[0;34m\u001b[0m\u001b[0;34m\u001b[0m\u001b[0m\n\u001b[1;32m     11\u001b[0m         \u001b[0;32mbreak\u001b[0m\u001b[0;34m\u001b[0m\u001b[0;34m\u001b[0m\u001b[0m\n\u001b[0;32m---> 12\u001b[0;31m     \u001b[0mr\u001b[0m\u001b[0;34m.\u001b[0m\u001b[0msleep\u001b[0m\u001b[0;34m(\u001b[0m\u001b[0;34m)\u001b[0m \u001b[0;31m# ros sleep for a little while before checking convergence again\u001b[0m\u001b[0;34m\u001b[0m\u001b[0;34m\u001b[0m\u001b[0m\n\u001b[0m",
      "\u001b[0;32m/opt/ros/noetic/lib/python3/dist-packages/rospy/timer.py\u001b[0m in \u001b[0;36msleep\u001b[0;34m(self)\u001b[0m\n\u001b[1;32m    101\u001b[0m         \u001b[0mcurr_time\u001b[0m \u001b[0;34m=\u001b[0m \u001b[0mrospy\u001b[0m\u001b[0;34m.\u001b[0m\u001b[0mrostime\u001b[0m\u001b[0;34m.\u001b[0m\u001b[0mget_rostime\u001b[0m\u001b[0;34m(\u001b[0m\u001b[0;34m)\u001b[0m\u001b[0;34m\u001b[0m\u001b[0;34m\u001b[0m\u001b[0m\n\u001b[1;32m    102\u001b[0m         \u001b[0;32mtry\u001b[0m\u001b[0;34m:\u001b[0m\u001b[0;34m\u001b[0m\u001b[0;34m\u001b[0m\u001b[0m\n\u001b[0;32m--> 103\u001b[0;31m             \u001b[0msleep\u001b[0m\u001b[0;34m(\u001b[0m\u001b[0mself\u001b[0m\u001b[0;34m.\u001b[0m\u001b[0m_remaining\u001b[0m\u001b[0;34m(\u001b[0m\u001b[0mcurr_time\u001b[0m\u001b[0;34m)\u001b[0m\u001b[0;34m)\u001b[0m\u001b[0;34m\u001b[0m\u001b[0;34m\u001b[0m\u001b[0m\n\u001b[0m\u001b[1;32m    104\u001b[0m         \u001b[0;32mexcept\u001b[0m \u001b[0mrospy\u001b[0m\u001b[0;34m.\u001b[0m\u001b[0mexceptions\u001b[0m\u001b[0;34m.\u001b[0m\u001b[0mROSTimeMovedBackwardsException\u001b[0m\u001b[0;34m:\u001b[0m\u001b[0;34m\u001b[0m\u001b[0;34m\u001b[0m\u001b[0m\n\u001b[1;32m    105\u001b[0m             \u001b[0;32mif\u001b[0m \u001b[0;32mnot\u001b[0m \u001b[0mself\u001b[0m\u001b[0;34m.\u001b[0m\u001b[0m_reset\u001b[0m\u001b[0;34m:\u001b[0m\u001b[0;34m\u001b[0m\u001b[0;34m\u001b[0m\u001b[0m\n",
      "\u001b[0;32m/opt/ros/noetic/lib/python3/dist-packages/rospy/timer.py\u001b[0m in \u001b[0;36msleep\u001b[0;34m(duration)\u001b[0m\n\u001b[1;32m    132\u001b[0m             \u001b[0;32mreturn\u001b[0m\u001b[0;34m\u001b[0m\u001b[0;34m\u001b[0m\u001b[0m\n\u001b[1;32m    133\u001b[0m         \u001b[0;32melse\u001b[0m\u001b[0;34m:\u001b[0m\u001b[0;34m\u001b[0m\u001b[0;34m\u001b[0m\u001b[0m\n\u001b[0;32m--> 134\u001b[0;31m             \u001b[0mrospy\u001b[0m\u001b[0;34m.\u001b[0m\u001b[0mrostime\u001b[0m\u001b[0;34m.\u001b[0m\u001b[0mwallsleep\u001b[0m\u001b[0;34m(\u001b[0m\u001b[0mduration\u001b[0m\u001b[0;34m)\u001b[0m\u001b[0;34m\u001b[0m\u001b[0;34m\u001b[0m\u001b[0m\n\u001b[0m\u001b[1;32m    135\u001b[0m     \u001b[0;32melse\u001b[0m\u001b[0;34m:\u001b[0m\u001b[0;34m\u001b[0m\u001b[0;34m\u001b[0m\u001b[0m\n\u001b[1;32m    136\u001b[0m         \u001b[0minitial_rostime\u001b[0m \u001b[0;34m=\u001b[0m \u001b[0mrospy\u001b[0m\u001b[0;34m.\u001b[0m\u001b[0mrostime\u001b[0m\u001b[0;34m.\u001b[0m\u001b[0mget_rostime\u001b[0m\u001b[0;34m(\u001b[0m\u001b[0;34m)\u001b[0m\u001b[0;34m\u001b[0m\u001b[0;34m\u001b[0m\u001b[0m\n",
      "\u001b[0;32m/opt/ros/noetic/lib/python3/dist-packages/rospy/rostime.py\u001b[0m in \u001b[0;36mwallsleep\u001b[0;34m(duration)\u001b[0m\n\u001b[1;32m    275\u001b[0m             \u001b[0;32mpass\u001b[0m\u001b[0;34m\u001b[0m\u001b[0;34m\u001b[0m\u001b[0m\n\u001b[1;32m    276\u001b[0m     \u001b[0;32melse\u001b[0m\u001b[0;34m:\u001b[0m\u001b[0;34m\u001b[0m\u001b[0;34m\u001b[0m\u001b[0m\n\u001b[0;32m--> 277\u001b[0;31m         \u001b[0mtime\u001b[0m\u001b[0;34m.\u001b[0m\u001b[0msleep\u001b[0m\u001b[0;34m(\u001b[0m\u001b[0mduration\u001b[0m\u001b[0;34m)\u001b[0m\u001b[0;34m\u001b[0m\u001b[0;34m\u001b[0m\u001b[0m\n\u001b[0m",
      "\u001b[0;31mKeyboardInterrupt\u001b[0m: "
     ]
    }
   ],
   "source": [
    "#env_reEngage_pub.publish(Reengage())\n",
    "r = rospy.Rate(5) # 15hz \n",
    "while not rospy.is_shutdown() and i < len(acts):\n",
    "    try:\n",
    "        pos_cmd_pub.publish(proprio_rpy_to_ROSmsg(acts[i,:]))\n",
    "        #env_reset_pub.publish(ag_to_ROSmsg(ags[i,:])) # shape (7,)\n",
    "        i += 1\n",
    "        print(i)\n",
    "    except Exception as e:\n",
    "        print(e)\n",
    "        break\n",
    "    r.sleep() # ros sleep for a little while before checking convergence again"
   ]
  },
  {
   "cell_type": "code",
   "execution_count": 21,
   "id": "12656ffe",
   "metadata": {},
   "outputs": [
    {
     "ename": "KeyboardInterrupt",
     "evalue": "",
     "output_type": "error",
     "traceback": [
      "\u001b[0;31m----------------------------------------------------\u001b[0m",
      "\u001b[0;31mKeyboardInterrupt\u001b[0m  Traceback (most recent call last)",
      "\u001b[0;32m<ipython-input-21-37185d60dfd4>\u001b[0m in \u001b[0;36m<module>\u001b[0;34m\u001b[0m\n\u001b[1;32m      2\u001b[0m \u001b[0;32mfor\u001b[0m \u001b[0mi\u001b[0m \u001b[0;32min\u001b[0m \u001b[0mrange\u001b[0m\u001b[0;34m(\u001b[0m\u001b[0;36m800\u001b[0m\u001b[0;34m,\u001b[0m \u001b[0mlen\u001b[0m\u001b[0;34m(\u001b[0m\u001b[0mproprio\u001b[0m\u001b[0;34m)\u001b[0m\u001b[0;34m)\u001b[0m\u001b[0;34m:\u001b[0m\u001b[0;34m\u001b[0m\u001b[0;34m\u001b[0m\u001b[0m\n\u001b[1;32m      3\u001b[0m     \u001b[0mreset_to\u001b[0m\u001b[0;34m(\u001b[0m\u001b[0mproprio\u001b[0m\u001b[0;34m[\u001b[0m\u001b[0mi\u001b[0m\u001b[0;34m,\u001b[0m\u001b[0;34m:\u001b[0m\u001b[0;34m]\u001b[0m\u001b[0;34m,\u001b[0m \u001b[0mags\u001b[0m\u001b[0;34m[\u001b[0m\u001b[0mi\u001b[0m\u001b[0;34m,\u001b[0m\u001b[0;34m:\u001b[0m\u001b[0;34m]\u001b[0m\u001b[0;34m)\u001b[0m\u001b[0;34m\u001b[0m\u001b[0;34m\u001b[0m\u001b[0m\n\u001b[0;32m----> 4\u001b[0;31m     \u001b[0mtime\u001b[0m\u001b[0;34m.\u001b[0m\u001b[0msleep\u001b[0m\u001b[0;34m(\u001b[0m\u001b[0;36m0.08\u001b[0m\u001b[0;34m)\u001b[0m\u001b[0;34m\u001b[0m\u001b[0;34m\u001b[0m\u001b[0m\n\u001b[0m",
      "\u001b[0;31mKeyboardInterrupt\u001b[0m: "
     ]
    }
   ],
   "source": [
    "import time\n",
    "for i in range(800, len(proprio)):\n",
    "    reset_to(proprio[i,:], ags[i,:])\n",
    "    time.sleep(0.04)"
   ]
  },
  {
   "cell_type": "code",
   "execution_count": 35,
   "id": "3318b1cf",
   "metadata": {
    "scrolled": true
   },
   "outputs": [
    {
     "data": {
      "text/plain": [
       "pos_x: -0.4428572952747345\n",
       "pos_y: 0.22392550110816956\n",
       "pos_z: 0.4295077919960022\n",
       "rot_r: 0.6223673820495605\n",
       "rot_p: -0.22585928440093994\n",
       "rot_y: -0.1272006332874298\n",
       "gripper: 0.9654262661933899"
      ]
     },
     "execution_count": 35,
     "metadata": {},
     "output_type": "execute_result"
    }
   ],
   "source": [
    "proprio_rpy_to_ROSmsg(proprio[idx,:])"
   ]
  },
  {
   "cell_type": "code",
   "execution_count": 37,
   "id": "e67197c3",
   "metadata": {},
   "outputs": [],
   "source": [
    "idx = 60\n",
    "pos_cmd_pub.publish(proprio_rpy_to_ROSmsg(proprio[idx,:]))"
   ]
  },
  {
   "cell_type": "code",
   "execution_count": 25,
   "id": "42fe90dc",
   "metadata": {},
   "outputs": [
    {
     "data": {
      "text/plain": [
       "{'timestep': 9996,\n",
       " 'data_arrival_time': 1618009958.5699267,\n",
       " 'data_processed_time': 1618009958.572478,\n",
       " 'beat_sent_time': 1618009958.5986288,\n",
       " 'act_begin_time': 1618009958.604449,\n",
       " 'model_processed_time': 1618009958.637456}"
      ]
     },
     "execution_count": 25,
     "metadata": {},
     "output_type": "execute_result"
    }
   ],
   "source": [
    "times[0]"
   ]
  },
  {
   "cell_type": "code",
   "execution_count": 19,
   "id": "b3231978",
   "metadata": {},
   "outputs": [],
   "source": [
    "# What we can do is say the beat sent time is the 'centre', thats 0\n",
    "# then the order should be data_arrival, beat_sent, act_begin, model_processed\n",
    "# therefore we can create a histogram for each of these around 0\n",
    "ts, da, dp, ab, mp = [], [], [], [], []\n",
    "\n",
    "for t in times:\n",
    "    ts.append(t['timestep'])\n",
    "    beat = t['beat_sent_time']\n",
    "    da.append(t['data_arrival_time']- beat)\n",
    "    #dp.append(t['data_processed_time'] - beat)\n",
    "    #bs.append(beat)\n",
    "    ab.append(t['act_begin_time'] - beat)\n",
    "    mp.append(t['model_processed_time'] - beat)\n",
    "    \n",
    "bs = []\n",
    "for i in range(0,len(times)-1):\n",
    "    bs.append(times[i+1]['beat_sent_time'] - times[i]['beat_sent_time'])\n",
    "    \n"
   ]
  },
  {
   "cell_type": "code",
   "execution_count": 20,
   "id": "c466d88d",
   "metadata": {},
   "outputs": [
    {
     "data": {
      "text/plain": [
       "array([1, 1, 1, 1, 1, 1, 1, 1, 1, 1, 1, 1, 1, 1, 1, 1, 1, 1, 1, 1, 1, 1,\n",
       "       1, 1, 1, 1, 1, 1, 1, 1, 1, 1, 1, 1, 1, 1, 1, 1, 1, 1, 1, 1, 1, 1,\n",
       "       1, 1, 1, 1, 1, 1, 1, 1, 1, 1, 1, 1, 1, 1, 1, 1, 3, 1, 1, 1, 6, 1,\n",
       "       1, 1, 1, 1, 5, 1, 1, 1, 1, 1, 6, 1, 1, 1, 1, 1, 5, 1, 1, 1, 1, 1,\n",
       "       5, 1, 1, 1, 1, 1, 7, 1, 1, 1, 1, 1, 8, 1, 1, 1, 1, 1, 1, 1, 1, 6,\n",
       "       1, 1, 1, 1, 1, 1, 5, 1, 1, 7, 1, 1, 1, 1, 1, 1, 1, 1, 6, 1, 1, 1,\n",
       "       1, 1, 5, 1, 1, 1, 1, 1, 6, 1, 1, 1, 1, 5, 1, 1, 1, 1, 1, 8, 1, 1,\n",
       "       1, 1, 1, 1, 1, 6, 1, 1, 1, 1, 5, 1, 1, 1, 1, 1, 7, 1, 1, 1, 1, 1,\n",
       "       1, 1, 6, 1, 1, 1, 1, 1, 7, 1, 1, 1, 1, 1, 1, 1, 6, 1, 1, 1, 1, 5,\n",
       "       1])"
      ]
     },
     "execution_count": 20,
     "metadata": {},
     "output_type": "execute_result"
    }
   ],
   "source": [
    "ts = np.array(ts)\n",
    "ts[1:200]-ts[0:199]"
   ]
  },
  {
   "cell_type": "code",
   "execution_count": 15,
   "id": "bb1c0b6e",
   "metadata": {},
   "outputs": [
    {
     "data": {
      "image/png": "[encoded data removed]",
      "text/plain": [
       "<Figure size 432x288 with 4 Axes>"
      ]
     },
     "metadata": {
      "needs_background": "light"
     },
     "output_type": "display_data"
    }
   ],
   "source": [
    "import matplotlib.pyplot as plt\n",
    "fig, axs = plt.subplots(4)\n",
    "left, right = -1/TIME_FREQUENCY, 1/TIME_FREQUENCY\n",
    "axs[0].hist(da)\n",
    "axs[1].hist(dp)\n",
    "axs[2].hist(ab)\n",
    "axs[3].hist(mp)\n",
    "\n",
    "for i in range(0,len(axs)):\n",
    "    axs[i].set_xlim(left=left, right=right)\n",
    "    "
   ]
  },
  {
   "cell_type": "code",
   "execution_count": 16,
   "id": "53a893f3",
   "metadata": {},
   "outputs": [
    {
     "ename": "NameError",
     "evalue": "name 'bs' is not defined",
     "output_type": "error",
     "traceback": [
      "\u001b[0;31m---------------------------------------------------------------------------\u001b[0m",
      "\u001b[0;31mNameError\u001b[0m                                 Traceback (most recent call last)",
      "\u001b[0;32m<ipython-input-16-a1cd0b250693>\u001b[0m in \u001b[0;36m<module>\u001b[0;34m\u001b[0m\n\u001b[0;32m----> 1\u001b[0;31m \u001b[0mplt\u001b[0m\u001b[0;34m.\u001b[0m\u001b[0mhist\u001b[0m\u001b[0;34m(\u001b[0m\u001b[0mbs\u001b[0m\u001b[0;34m,\u001b[0m \u001b[0mbins\u001b[0m\u001b[0;34m=\u001b[0m\u001b[0;36m100\u001b[0m\u001b[0;34m)\u001b[0m\u001b[0;34m\u001b[0m\u001b[0;34m\u001b[0m\u001b[0m\n\u001b[0m",
      "\u001b[0;31mNameError\u001b[0m: name 'bs' is not defined"
     ]
    }
   ],
   "source": [
    "plt.hist(bs, bins=100)"
   ]
  },
  {
   "cell_type": "code",
   "execution_count": 17,
   "id": "44451d4c",
   "metadata": {},
   "outputs": [
    {
     "data": {
      "image/png": "[encoded data removed]",
      "text/plain": [
       "<Figure size 432x288 with 1 Axes>"
      ]
     },
     "metadata": {
      "needs_background": "light"
     },
     "output_type": "display_data"
    },
    {
     "data": {
      "image/png": "[encoded data removed]",
      "text/plain": [
       "<Figure size 432x288 with 1 Axes>"
      ]
     },
     "metadata": {
      "needs_background": "light"
     },
     "output_type": "display_data"
    },
    {
     "data": {
      "image/png": "[encoded data removed]",
      "text/plain": [
       "<Figure size 432x288 with 1 Axes>"
      ]
     },
     "metadata": {
      "needs_background": "light"
     },
     "output_type": "display_data"
    },
    {
     "data": {
      "image/png": "[encoded data removed]",
      "text/plain": [
       "<Figure size 432x288 with 1 Axes>"
      ]
     },
     "metadata": {
      "needs_background": "light"
     },
     "output_type": "display_data"
    },
    {
     "data": {
      "image/png": "[encoded data removed]",
      "text/plain": [
       "<Figure size 432x288 with 1 Axes>"
      ]
     },
     "metadata": {
      "needs_background": "light"
     },
     "output_type": "display_data"
    },
    {
     "data": {
      "image/png": "[encoded data removed]",
      "text/plain": [
       "<Figure size 432x288 with 1 Axes>"
      ]
     },
     "metadata": {
      "needs_background": "light"
     },
     "output_type": "display_data"
    },
    {
     "data": {
      "image/png": "[encoded data removed]",
      "text/plain": [
       "<Figure size 432x288 with 1 Axes>"
      ]
     },
     "metadata": {
      "needs_background": "light"
     },
     "output_type": "display_data"
    }
   ],
   "source": [
    "d = acts[60:90]\n",
    "for i in range(0, d.shape[1]):\n",
    "    plt.hist(d[:,i])\n",
    "    plt.show()"
   ]
  },
  {
   "cell_type": "code",
   "execution_count": 18,
   "id": "f5e29bbe",
   "metadata": {},
   "outputs": [
    {
     "data": {
      "image/png": "[encoded data removed]",
      "text/plain": [
       "<Figure size 432x288 with 1 Axes>"
      ]
     },
     "metadata": {
      "needs_background": "light"
     },
     "output_type": "display_data"
    },
    {
     "data": {
      "image/png": "[encoded data removed]",
      "text/plain": [
       "<Figure size 432x288 with 1 Axes>"
      ]
     },
     "metadata": {
      "needs_background": "light"
     },
     "output_type": "display_data"
    },
    {
     "data": {
      "image/png": "[encoded data removed]",
      "text/plain": [
       "<Figure size 432x288 with 1 Axes>"
      ]
     },
     "metadata": {
      "needs_background": "light"
     },
     "output_type": "display_data"
    },
    {
     "data": {
      "image/png": "[encoded data removed]",
      "text/plain": [
       "<Figure size 432x288 with 1 Axes>"
      ]
     },
     "metadata": {
      "needs_background": "light"
     },
     "output_type": "display_data"
    },
    {
     "data": {
      "image/png": "[encoded data removed]",
      "text/plain": [
       "<Figure size 432x288 with 1 Axes>"
      ]
     },
     "metadata": {
      "needs_background": "light"
     },
     "output_type": "display_data"
    },
    {
     "data": {
      "image/png": "[encoded data removed]",
      "text/plain": [
       "<Figure size 432x288 with 1 Axes>"
      ]
     },
     "metadata": {
      "needs_background": "light"
     },
     "output_type": "display_data"
    },
    {
     "data": {
      "image/png": "[encoded data removed]",
      "text/plain": [
       "<Figure size 432x288 with 1 Axes>"
      ]
     },
     "metadata": {
      "needs_background": "light"
     },
     "output_type": "display_data"
    }
   ],
   "source": [
    "for i in range(0, d.shape[1]):\n",
    "    plt.plot(np.linspace(0,len(d),len(d)), d[:,i])\n",
    "    #plt.plot(np.linspace(0,len(acts),len(acts)), acts[:,i])\n",
    "    plt.show()"
   ]
  },
  {
   "cell_type": "code",
   "execution_count": null,
   "id": "e920be9d",
   "metadata": {},
   "outputs": [],
   "source": []
  },
  {
   "cell_type": "code",
   "execution_count": null,
   "id": "6dc99b9d",
   "metadata": {},
   "outputs": [],
   "source": []
  }
 ],
 "metadata": {
  "kernelspec": {
   "display_name": "Python 3",
   "language": "python",
   "name": "python3"
  },
  "language_info": {
   "codemirror_mode": {
    "name": "ipython",
    "version": 3
   },
   "file_extension": ".py",
   "mimetype": "text/x-python",
   "name": "python",
   "nbconvert_exporter": "python",
   "pygments_lexer": "ipython3",
   "version": "3.8.5"
  }
 },
 "nbformat": 4,
 "nbformat_minor": 5
}
