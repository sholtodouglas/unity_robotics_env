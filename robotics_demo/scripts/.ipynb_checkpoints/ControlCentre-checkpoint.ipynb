{
 "cells": [
  {
   "cell_type": "code",
   "execution_count": 1,
   "id": "989da68b",
   "metadata": {},
   "outputs": [],
   "source": [
    "import rospy\n",
    "from robotics_demo.msg import JointPositions, Observation, AchievedGoal, PositionCommand, RPYProprioState, Velocities, ResetInfo, Reengage\n",
    "from robotics_demo.srv import getIK, getIKResponse, getState, getStateResponse\n",
    "import time"
   ]
  },
  {
   "cell_type": "code",
   "execution_count": 2,
   "id": "b85b1008",
   "metadata": {},
   "outputs": [
    {
     "name": "stdout",
     "output_type": "stream",
     "text": [
      "current_dir=/catkin_ws/src/unity_robotics_env/robotics_demo/scripts\n"
     ]
    }
   ],
   "source": [
    "import numpy as np\n",
    "import os, inspect\n",
    "currentdir = os.path.dirname(os.path.abspath(inspect.getfile(inspect.currentframe())))\n",
    "print(\"current_dir=\" + currentdir)\n",
    "os.sys.path.insert(0, currentdir)\n",
    "from utils import rosImg_to_numpy, proprio_quat_to_rpy_vector, \\\n",
    "        proprio_rpy_to_ROSmsg, ag_to_vector, ag_to_ROSmsg,\\\n",
    "        proprio_rpy_to_rpy_vector, unstack, act_to_jointPositionsROSmsg"
   ]
  },
  {
   "cell_type": "code",
   "execution_count": 3,
   "id": "29c495a4",
   "metadata": {},
   "outputs": [],
   "source": [
    "# The publisher which sends out position commands that then get converted to joint commands by the IK node\n",
    "pos_cmd_pub = rospy.Publisher('xyz_rpy_g_command', PositionCommand, queue_size=1)\n",
    "# The publisher which resets the non_arm elements of the state\n",
    "env_reset_pub = rospy.Publisher('full_reset', ResetInfo, queue_size=1)\n",
    "env_reEngage_physics_pub = rospy.Publisher('re_engage_physics', Reengage, queue_size=1)\n",
    "env_reEngage_collision_pub = rospy.Publisher('re_engage_collision', Reengage, queue_size=1)\n",
    "# service to get IK \n",
    "IK = rospy.ServiceProxy('get_IK', getIK)\n",
    "getStateServ = rospy.ServiceProxy('getState', getState)"
   ]
  },
  {
   "cell_type": "code",
   "execution_count": 4,
   "id": "29ed520b",
   "metadata": {},
   "outputs": [],
   "source": [
    "# First things first, lets load some data! \n",
    "DATA_PATH = os.getcwd()[:-(len(\"/unity_robotics_env/robotics_demo/scripts\"))]+'/data/UR5/'\n",
    "OBS_ACT_PATH = DATA_PATH+'obs_act_etc/'\n",
    "IMS_PATH = DATA_PATH+'states_and_ims/'\n",
    "TIME_FREQUENCY = 15\n",
    "default_vr_controller_pos =  RPYProprioState(-0.4, 0.2, 0.0,0.0,0.0,0.0,0.0)"
   ]
  },
  {
   "cell_type": "code",
   "execution_count": 5,
   "id": "835d7caf",
   "metadata": {},
   "outputs": [],
   "source": [
    "rospy.init_node('jupyter')"
   ]
  },
  {
   "cell_type": "code",
   "execution_count": 6,
   "id": "f14793b2",
   "metadata": {},
   "outputs": [],
   "source": [
    "\n",
    "    \n",
    "def process_observation():\n",
    "    '''\n",
    "    The full state will be sent out at Nh > controlHz by the env, listen to it, and save the relevant parts\n",
    "    '''\n",
    "\n",
    "    o = getStateServ(int(1)).state\n",
    "    proprioceptive_state  = proprio_quat_to_rpy_vector(o.proprio)\n",
    "    achieved_goal = ag_to_vector(o.ag)\n",
    "    full_state = np.concatenate([proprioceptive_state, achieved_goal])\n",
    "    # process the images\n",
    "    shoulder_image  = rosImg_to_numpy(o.shoulderImage)\n",
    "    gripper_image = rosImg_to_numpy(o.gripperImage)\n",
    "    return proprioceptive_state, achieved_goal, shoulder_image, gripper_image\n",
    "\n",
    "\n",
    "def check_reset_convergence(proprio, ag, current_proprio, current_ag, threshold = 0.01):\n",
    "    proprio_checks = abs(proprio - current_proprio) < threshold\n",
    "    ag_checks = abs(ag-current_ag) < threshold\n",
    "    all_checks = np.concatenate([proprio_checks, ag_checks])\n",
    "    return all_checks\n",
    "#     if np.all(all_checks):\n",
    "#         return True\n",
    "#     else:\n",
    "#         return False\n",
    "    \n",
    "def converge_on_reset(proprio, ag, threshold = 0.05):\n",
    "    t_start = time.time()\n",
    "    r = rospy.Rate(10) # 10hz \n",
    "    while not rospy.is_shutdown():\n",
    "        t = time.time()\n",
    "        current_arm, current_ag, _,_ = process_observation()\n",
    "        checks = check_reset_convergence(proprio, ag, current_arm, current_ag, threshold)\n",
    "        if (t > t_start+1):\n",
    "            idxs = np.where(checks == False)\n",
    "#             print(idxs, proprio[idxs], current_arm[idxs])\n",
    "            return\n",
    "        elif np.all(checks):\n",
    "            return\n",
    "        r.sleep() # ros sleep for a little while before checking convergence again\n",
    "    "
   ]
  },
  {
   "cell_type": "code",
   "execution_count": 7,
   "id": "f1c9627f",
   "metadata": {},
   "outputs": [
    {
     "name": "stdout",
     "output_type": "stream",
     "text": [
      "150\n"
     ]
    }
   ],
   "source": [
    "test = np.load(f\"{OBS_ACT_PATH}/0/data.npz\", allow_pickle=True)\n",
    "obs, acts, ags, times = test['obs'], test['acts'], test['achieved_goals'], test['times']\n",
    "proprio = obs[:, :7]\n",
    "print(len(acts))"
   ]
  },
  {
   "cell_type": "code",
   "execution_count": 8,
   "id": "be09d269",
   "metadata": {},
   "outputs": [],
   "source": [
    "\n",
    "\n",
    "def reset_to(arm, ag, prev_act = np.zeros(7)):\n",
    "    \n",
    "    arm_msg = proprio_rpy_to_ROSmsg(arm)\n",
    "    prev_act = act_to_jointPositionsROSmsg(prev_act)\n",
    "    # Get IK for actual position\n",
    "    joints = IK(arm_msg, JointPositions()).joints\n",
    "    # Package into ResetInfo\n",
    "    r = ResetInfo(joints, ag_to_ROSmsg(ag), Velocities())\n",
    "    # Send down\n",
    "    env_reset_pub.publish(r)\n",
    "    converge_on_reset(arm, ag, threshold = 0.05)\n",
    "    env_reEngage_collision_pub.publish(Reengage())\n",
    "    time.sleep(1/TIME_FREQUENCY)\n",
    "    \n",
    "    "
   ]
  },
  {
   "cell_type": "code",
   "execution_count": 15,
   "id": "aec36c45",
   "metadata": {},
   "outputs": [
    {
     "ename": "IndexError",
     "evalue": "index 15 is out of bounds for axis 0 with size 7",
     "output_type": "error",
     "traceback": [
      "\u001b[0;31m---------------------------------------------------------------------\u001b[0m",
      "\u001b[0;31mIndexError\u001b[0m                          Traceback (most recent call last)",
      "\u001b[0;32m<ipython-input-15-58b82b4d62a6>\u001b[0m in \u001b[0;36m<module>\u001b[0;34m\u001b[0m\n\u001b[1;32m      1\u001b[0m \u001b[0mi\u001b[0m \u001b[0;34m=\u001b[0m \u001b[0;36m120\u001b[0m\u001b[0;34m\u001b[0m\u001b[0;34m\u001b[0m\u001b[0m\n\u001b[1;32m      2\u001b[0m \u001b[0;31m#p[-1] = 1.0\u001b[0m\u001b[0;34m\u001b[0m\u001b[0;34m\u001b[0m\u001b[0;34m\u001b[0m\u001b[0m\n\u001b[0;32m----> 3\u001b[0;31m \u001b[0mreset_to\u001b[0m\u001b[0;34m(\u001b[0m\u001b[0mproprio\u001b[0m\u001b[0;34m[\u001b[0m\u001b[0mi\u001b[0m\u001b[0;34m,\u001b[0m\u001b[0;34m:\u001b[0m\u001b[0;34m]\u001b[0m\u001b[0;34m,\u001b[0m \u001b[0mags\u001b[0m\u001b[0;34m[\u001b[0m\u001b[0mi\u001b[0m\u001b[0;34m,\u001b[0m\u001b[0;34m:\u001b[0m\u001b[0;34m]\u001b[0m\u001b[0;34m,\u001b[0m \u001b[0macts\u001b[0m\u001b[0;34m[\u001b[0m\u001b[0mi\u001b[0m\u001b[0;34m,\u001b[0m\u001b[0;34m:\u001b[0m\u001b[0;34m]\u001b[0m\u001b[0;34m)\u001b[0m\u001b[0;34m\u001b[0m\u001b[0;34m\u001b[0m\u001b[0m\n\u001b[0m",
      "\u001b[0;32m<ipython-input-8-352496b3ea28>\u001b[0m in \u001b[0;36mreset_to\u001b[0;34m(arm, ag, prev_act)\u001b[0m\n\u001b[1;32m      9\u001b[0m     \u001b[0;31m# Send down\u001b[0m\u001b[0;34m\u001b[0m\u001b[0;34m\u001b[0m\u001b[0;34m\u001b[0m\u001b[0m\n\u001b[1;32m     10\u001b[0m     \u001b[0menv_reset_pub\u001b[0m\u001b[0;34m.\u001b[0m\u001b[0mpublish\u001b[0m\u001b[0;34m(\u001b[0m\u001b[0mr\u001b[0m\u001b[0;34m)\u001b[0m\u001b[0;34m\u001b[0m\u001b[0;34m\u001b[0m\u001b[0m\n\u001b[0;32m---> 11\u001b[0;31m     \u001b[0mconverge_on_reset\u001b[0m\u001b[0;34m(\u001b[0m\u001b[0marm\u001b[0m\u001b[0;34m,\u001b[0m \u001b[0mag\u001b[0m\u001b[0;34m,\u001b[0m \u001b[0mthreshold\u001b[0m \u001b[0;34m=\u001b[0m \u001b[0;36m0.05\u001b[0m\u001b[0;34m)\u001b[0m\u001b[0;34m\u001b[0m\u001b[0;34m\u001b[0m\u001b[0m\n\u001b[0m\u001b[1;32m     12\u001b[0m     \u001b[0menv_reEngage_collision_pub\u001b[0m\u001b[0;34m.\u001b[0m\u001b[0mpublish\u001b[0m\u001b[0;34m(\u001b[0m\u001b[0mReengage\u001b[0m\u001b[0;34m(\u001b[0m\u001b[0;34m)\u001b[0m\u001b[0;34m)\u001b[0m\u001b[0;34m\u001b[0m\u001b[0;34m\u001b[0m\u001b[0m\n\u001b[1;32m     13\u001b[0m     \u001b[0mtime\u001b[0m\u001b[0;34m.\u001b[0m\u001b[0msleep\u001b[0m\u001b[0;34m(\u001b[0m\u001b[0;36m1\u001b[0m\u001b[0;34m/\u001b[0m\u001b[0mTIME_FREQUENCY\u001b[0m\u001b[0;34m)\u001b[0m\u001b[0;34m\u001b[0m\u001b[0;34m\u001b[0m\u001b[0m\n",
      "\u001b[0;32m<ipython-input-6-9a780d0affd6>\u001b[0m in \u001b[0;36mconverge_on_reset\u001b[0;34m(proprio, ag, threshold)\u001b[0m\n\u001b[1;32m     33\u001b[0m         \u001b[0;32mif\u001b[0m \u001b[0;34m(\u001b[0m\u001b[0mt\u001b[0m \u001b[0;34m>\u001b[0m \u001b[0mt_start\u001b[0m\u001b[0;34m+\u001b[0m\u001b[0;36m1\u001b[0m\u001b[0;34m)\u001b[0m\u001b[0;34m:\u001b[0m\u001b[0;34m\u001b[0m\u001b[0;34m\u001b[0m\u001b[0m\n\u001b[1;32m     34\u001b[0m             \u001b[0midxs\u001b[0m \u001b[0;34m=\u001b[0m \u001b[0mnp\u001b[0m\u001b[0;34m.\u001b[0m\u001b[0mwhere\u001b[0m\u001b[0;34m(\u001b[0m\u001b[0mchecks\u001b[0m \u001b[0;34m==\u001b[0m \u001b[0;32mFalse\u001b[0m\u001b[0;34m)\u001b[0m\u001b[0;34m\u001b[0m\u001b[0;34m\u001b[0m\u001b[0m\n\u001b[0;32m---> 35\u001b[0;31m             \u001b[0mprint\u001b[0m\u001b[0;34m(\u001b[0m\u001b[0midxs\u001b[0m\u001b[0;34m,\u001b[0m \u001b[0mproprio\u001b[0m\u001b[0;34m[\u001b[0m\u001b[0midxs\u001b[0m\u001b[0;34m]\u001b[0m\u001b[0;34m,\u001b[0m \u001b[0mcurrent_arm\u001b[0m\u001b[0;34m[\u001b[0m\u001b[0midxs\u001b[0m\u001b[0;34m]\u001b[0m\u001b[0;34m)\u001b[0m\u001b[0;34m\u001b[0m\u001b[0;34m\u001b[0m\u001b[0m\n\u001b[0m\u001b[1;32m     36\u001b[0m             \u001b[0;32mreturn\u001b[0m\u001b[0;34m\u001b[0m\u001b[0;34m\u001b[0m\u001b[0m\n\u001b[1;32m     37\u001b[0m         \u001b[0;32melif\u001b[0m \u001b[0mnp\u001b[0m\u001b[0;34m.\u001b[0m\u001b[0mall\u001b[0m\u001b[0;34m(\u001b[0m\u001b[0mchecks\u001b[0m\u001b[0;34m)\u001b[0m\u001b[0;34m:\u001b[0m\u001b[0;34m\u001b[0m\u001b[0;34m\u001b[0m\u001b[0m\n",
      "\u001b[0;31mIndexError\u001b[0m: index 15 is out of bounds for axis 0 with size 7"
     ]
    }
   ],
   "source": [
    "i = 120\n",
    "#p[-1] = 1.0\n",
    "reset_to(proprio[i,:], ags[i,:], acts[i,:])"
   ]
  },
  {
   "cell_type": "code",
   "execution_count": 33,
   "id": "c54db6f3",
   "metadata": {},
   "outputs": [
    {
     "data": {
      "text/plain": [
       "array([-4.21386331e-01,  4.97372478e-01,  3.53975385e-01,  1.58290440e-01,\n",
       "       -1.77553100e-01,  5.35593679e-02,  1.39999393e-04])"
      ]
     },
     "execution_count": 33,
     "metadata": {},
     "output_type": "execute_result"
    }
   ],
   "source": [
    "current_arm, current_ag, _,_ = process_observation()\n",
    "current_arm"
   ]
  },
  {
   "cell_type": "code",
   "execution_count": 46,
   "id": "956f5be1",
   "metadata": {},
   "outputs": [
    {
     "name": "stdout",
     "output_type": "stream",
     "text": [
      "35\n",
      "(array([2, 4]),) [ 0.09657168 -0.10067941] [ 0.22476962 -0.03838632]\n",
      "36\n",
      "37\n",
      "38\n",
      "39\n",
      "40\n",
      "41\n",
      "42\n",
      "43\n",
      "44\n",
      "45\n",
      "46\n",
      "47\n",
      "48\n",
      "49\n",
      "50\n",
      "51\n",
      "52\n",
      "53\n",
      "54\n",
      "55\n",
      "56\n",
      "57\n",
      "58\n",
      "59\n",
      "60\n",
      "61\n",
      "62\n",
      "63\n",
      "64\n",
      "65\n",
      "66\n",
      "67\n",
      "68\n",
      "69\n"
     ]
    }
   ],
   "source": [
    "for i in range(35, 70):\n",
    "    print(i)\n",
    "    reset_to(proprio[i,:], ags[i,:], acts[i,:])"
   ]
  },
  {
   "cell_type": "code",
   "execution_count": 11,
   "id": "e794fa64",
   "metadata": {},
   "outputs": [],
   "source": []
  },
  {
   "cell_type": "code",
   "execution_count": 47,
   "id": "50640ec8",
   "metadata": {},
   "outputs": [],
   "source": [
    "env_reEngage_physics_pub.publish(Reengage())\n",
    "t0 = time.time()\n",
    "next_time = t0 + 1/TIME_FREQUENCY\n",
    "while not rospy.is_shutdown() and i < len(acts):\n",
    "    t = time.time()\n",
    "    if t >= next_time:\n",
    "        # Triggers corelogic acting\n",
    "        try:\n",
    "            next_time = next_time + 1/TIME_FREQUENCY\n",
    "            pos_cmd_pub.publish(proprio_rpy_to_ROSmsg(acts[i,:]))\n",
    "            i += 1\n",
    "        except Exception as e:\n",
    "            print(e)\n",
    "            break"
   ]
  },
  {
   "cell_type": "code",
   "execution_count": 62,
   "id": "c41d1b7b",
   "metadata": {},
   "outputs": [
    {
     "name": "stdout",
     "output_type": "stream",
     "text": [
      "901\n",
      "902\n",
      "903\n",
      "904\n",
      "905\n",
      "906\n",
      "907\n",
      "908\n",
      "909\n",
      "910\n",
      "911\n",
      "912\n",
      "913\n",
      "914\n",
      "915\n",
      "916\n",
      "917\n",
      "918\n",
      "919\n",
      "920\n",
      "921\n",
      "922\n",
      "923\n",
      "924\n",
      "925\n",
      "926\n",
      "927\n",
      "928\n",
      "929\n",
      "930\n",
      "931\n",
      "932\n",
      "933\n",
      "934\n",
      "935\n",
      "936\n",
      "937\n",
      "938\n",
      "939\n",
      "940\n",
      "941\n",
      "942\n",
      "943\n",
      "944\n",
      "945\n",
      "946\n",
      "947\n",
      "948\n",
      "949\n",
      "950\n",
      "951\n",
      "952\n",
      "953\n",
      "954\n",
      "955\n",
      "956\n",
      "957\n",
      "958\n",
      "959\n",
      "960\n",
      "961\n",
      "962\n",
      "963\n",
      "964\n",
      "965\n",
      "966\n",
      "967\n",
      "968\n",
      "969\n",
      "970\n",
      "971\n",
      "972\n",
      "973\n",
      "974\n",
      "975\n",
      "976\n",
      "977\n",
      "978\n",
      "979\n",
      "980\n",
      "981\n",
      "982\n",
      "983\n",
      "984\n",
      "985\n",
      "986\n",
      "987\n",
      "988\n",
      "989\n",
      "990\n",
      "991\n",
      "992\n",
      "993\n",
      "994\n",
      "995\n",
      "996\n",
      "997\n",
      "998\n",
      "999\n",
      "1000\n",
      "1001\n",
      "1002\n",
      "1003\n",
      "1004\n",
      "1005\n",
      "1006\n",
      "1007\n",
      "1008\n",
      "1009\n",
      "1010\n",
      "1011\n",
      "1012\n",
      "1013\n",
      "1014\n",
      "1015\n",
      "1016\n",
      "1017\n",
      "1018\n",
      "1019\n",
      "1020\n",
      "1021\n",
      "1022\n",
      "1023\n",
      "1024\n",
      "1025\n",
      "1026\n",
      "1027\n",
      "1028\n",
      "1029\n",
      "1030\n",
      "1031\n",
      "1032\n",
      "1033\n",
      "1034\n",
      "1035\n",
      "1036\n",
      "1037\n",
      "1038\n",
      "1039\n",
      "1040\n",
      "1041\n",
      "1042\n",
      "1043\n",
      "1044\n",
      "1045\n",
      "1046\n",
      "1047\n",
      "1048\n",
      "1049\n",
      "1050\n",
      "1051\n",
      "1052\n",
      "1053\n",
      "1054\n",
      "1055\n",
      "1056\n",
      "1057\n",
      "1058\n",
      "1059\n",
      "1060\n",
      "1061\n",
      "1062\n",
      "1063\n",
      "1064\n",
      "1065\n",
      "1066\n",
      "1067\n",
      "1068\n",
      "1069\n",
      "1070\n",
      "1071\n",
      "1072\n",
      "1073\n",
      "1074\n",
      "1075\n",
      "1076\n",
      "1077\n",
      "1078\n",
      "1079\n",
      "1080\n",
      "1081\n",
      "1082\n",
      "1083\n",
      "1084\n",
      "1085\n",
      "1086\n",
      "1087\n",
      "1088\n",
      "1089\n",
      "1090\n",
      "1091\n",
      "1092\n",
      "1093\n",
      "1094\n",
      "1095\n",
      "1096\n",
      "1097\n",
      "1098\n",
      "1099\n",
      "1100\n",
      "1101\n",
      "1102\n",
      "1103\n",
      "1104\n",
      "1105\n",
      "1106\n",
      "1107\n",
      "1108\n",
      "1109\n",
      "1110\n",
      "1111\n",
      "1112\n",
      "1113\n",
      "1114\n",
      "1115\n",
      "1116\n",
      "1117\n",
      "1118\n",
      "1119\n",
      "1120\n",
      "1121\n",
      "1122\n",
      "1123\n",
      "1124\n",
      "1125\n",
      "1126\n",
      "1127\n",
      "1128\n",
      "1129\n",
      "1130\n",
      "1131\n",
      "1132\n",
      "1133\n",
      "1134\n",
      "1135\n",
      "1136\n",
      "1137\n",
      "1138\n",
      "1139\n",
      "1140\n",
      "1141\n",
      "1142\n",
      "1143\n",
      "1144\n",
      "1145\n",
      "1146\n",
      "1147\n",
      "1148\n",
      "1149\n",
      "1150\n",
      "1151\n",
      "1152\n",
      "1153\n",
      "1154\n",
      "1155\n",
      "1156\n",
      "1157\n",
      "1158\n",
      "1159\n",
      "1160\n",
      "1161\n",
      "1162\n",
      "1163\n",
      "1164\n",
      "1165\n",
      "1166\n",
      "1167\n",
      "1168\n",
      "1169\n",
      "1170\n",
      "1171\n",
      "1172\n",
      "1173\n",
      "1174\n",
      "1175\n",
      "1176\n",
      "1177\n",
      "1178\n",
      "1179\n",
      "1180\n",
      "1181\n",
      "1182\n",
      "1183\n",
      "1184\n",
      "1185\n",
      "1186\n",
      "1187\n",
      "1188\n",
      "1189\n",
      "1190\n",
      "1191\n",
      "1192\n",
      "1193\n",
      "1194\n",
      "1195\n",
      "1196\n",
      "1197\n",
      "1198\n",
      "1199\n",
      "1200\n",
      "1201\n",
      "1202\n",
      "1203\n",
      "1204\n",
      "1205\n",
      "1206\n",
      "1207\n",
      "1208\n",
      "1209\n",
      "1210\n",
      "1211\n",
      "1212\n",
      "1213\n",
      "1214\n",
      "1215\n",
      "1216\n",
      "1217\n",
      "1218\n",
      "1219\n",
      "1220\n",
      "1221\n",
      "1222\n",
      "1223\n",
      "1224\n",
      "1225\n",
      "1226\n",
      "1227\n",
      "1228\n",
      "1229\n",
      "1230\n",
      "1231\n",
      "1232\n",
      "1233\n",
      "1234\n",
      "1235\n"
     ]
    },
    {
     "ename": "KeyboardInterrupt",
     "evalue": "",
     "output_type": "error",
     "traceback": [
      "\u001b[0;31m-------------------------------------------------------\u001b[0m",
      "\u001b[0;31mKeyboardInterrupt\u001b[0m     Traceback (most recent call last)",
      "\u001b[0;32m<ipython-input-62-d3f1a7642ebc>\u001b[0m in \u001b[0;36m<module>\u001b[0;34m\u001b[0m\n\u001b[1;32m     10\u001b[0m         \u001b[0mprint\u001b[0m\u001b[0;34m(\u001b[0m\u001b[0me\u001b[0m\u001b[0;34m)\u001b[0m\u001b[0;34m\u001b[0m\u001b[0;34m\u001b[0m\u001b[0m\n\u001b[1;32m     11\u001b[0m         \u001b[0;32mbreak\u001b[0m\u001b[0;34m\u001b[0m\u001b[0;34m\u001b[0m\u001b[0m\n\u001b[0;32m---> 12\u001b[0;31m     \u001b[0mr\u001b[0m\u001b[0;34m.\u001b[0m\u001b[0msleep\u001b[0m\u001b[0;34m(\u001b[0m\u001b[0;34m)\u001b[0m \u001b[0;31m# ros sleep for a little while before checking convergence again\u001b[0m\u001b[0;34m\u001b[0m\u001b[0;34m\u001b[0m\u001b[0m\n\u001b[0m",
      "\u001b[0;32m/opt/ros/noetic/lib/python3/dist-packages/rospy/timer.py\u001b[0m in \u001b[0;36msleep\u001b[0;34m(self)\u001b[0m\n\u001b[1;32m    101\u001b[0m         \u001b[0mcurr_time\u001b[0m \u001b[0;34m=\u001b[0m \u001b[0mrospy\u001b[0m\u001b[0;34m.\u001b[0m\u001b[0mrostime\u001b[0m\u001b[0;34m.\u001b[0m\u001b[0mget_rostime\u001b[0m\u001b[0;34m(\u001b[0m\u001b[0;34m)\u001b[0m\u001b[0;34m\u001b[0m\u001b[0;34m\u001b[0m\u001b[0m\n\u001b[1;32m    102\u001b[0m         \u001b[0;32mtry\u001b[0m\u001b[0;34m:\u001b[0m\u001b[0;34m\u001b[0m\u001b[0;34m\u001b[0m\u001b[0m\n\u001b[0;32m--> 103\u001b[0;31m             \u001b[0msleep\u001b[0m\u001b[0;34m(\u001b[0m\u001b[0mself\u001b[0m\u001b[0;34m.\u001b[0m\u001b[0m_remaining\u001b[0m\u001b[0;34m(\u001b[0m\u001b[0mcurr_time\u001b[0m\u001b[0;34m)\u001b[0m\u001b[0;34m)\u001b[0m\u001b[0;34m\u001b[0m\u001b[0;34m\u001b[0m\u001b[0m\n\u001b[0m\u001b[1;32m    104\u001b[0m         \u001b[0;32mexcept\u001b[0m \u001b[0mrospy\u001b[0m\u001b[0;34m.\u001b[0m\u001b[0mexceptions\u001b[0m\u001b[0;34m.\u001b[0m\u001b[0mROSTimeMovedBackwardsException\u001b[0m\u001b[0;34m:\u001b[0m\u001b[0;34m\u001b[0m\u001b[0;34m\u001b[0m\u001b[0m\n\u001b[1;32m    105\u001b[0m             \u001b[0;32mif\u001b[0m \u001b[0;32mnot\u001b[0m \u001b[0mself\u001b[0m\u001b[0;34m.\u001b[0m\u001b[0m_reset\u001b[0m\u001b[0;34m:\u001b[0m\u001b[0;34m\u001b[0m\u001b[0;34m\u001b[0m\u001b[0m\n",
      "\u001b[0;32m/opt/ros/noetic/lib/python3/dist-packages/rospy/timer.py\u001b[0m in \u001b[0;36msleep\u001b[0;34m(duration)\u001b[0m\n\u001b[1;32m    132\u001b[0m             \u001b[0;32mreturn\u001b[0m\u001b[0;34m\u001b[0m\u001b[0;34m\u001b[0m\u001b[0m\n\u001b[1;32m    133\u001b[0m         \u001b[0;32melse\u001b[0m\u001b[0;34m:\u001b[0m\u001b[0;34m\u001b[0m\u001b[0;34m\u001b[0m\u001b[0m\n\u001b[0;32m--> 134\u001b[0;31m             \u001b[0mrospy\u001b[0m\u001b[0;34m.\u001b[0m\u001b[0mrostime\u001b[0m\u001b[0;34m.\u001b[0m\u001b[0mwallsleep\u001b[0m\u001b[0;34m(\u001b[0m\u001b[0mduration\u001b[0m\u001b[0;34m)\u001b[0m\u001b[0;34m\u001b[0m\u001b[0;34m\u001b[0m\u001b[0m\n\u001b[0m\u001b[1;32m    135\u001b[0m     \u001b[0;32melse\u001b[0m\u001b[0;34m:\u001b[0m\u001b[0;34m\u001b[0m\u001b[0;34m\u001b[0m\u001b[0m\n\u001b[1;32m    136\u001b[0m         \u001b[0minitial_rostime\u001b[0m \u001b[0;34m=\u001b[0m \u001b[0mrospy\u001b[0m\u001b[0;34m.\u001b[0m\u001b[0mrostime\u001b[0m\u001b[0;34m.\u001b[0m\u001b[0mget_rostime\u001b[0m\u001b[0;34m(\u001b[0m\u001b[0;34m)\u001b[0m\u001b[0;34m\u001b[0m\u001b[0;34m\u001b[0m\u001b[0m\n",
      "\u001b[0;32m/opt/ros/noetic/lib/python3/dist-packages/rospy/rostime.py\u001b[0m in \u001b[0;36mwallsleep\u001b[0;34m(duration)\u001b[0m\n\u001b[1;32m    275\u001b[0m             \u001b[0;32mpass\u001b[0m\u001b[0;34m\u001b[0m\u001b[0;34m\u001b[0m\u001b[0m\n\u001b[1;32m    276\u001b[0m     \u001b[0;32melse\u001b[0m\u001b[0;34m:\u001b[0m\u001b[0;34m\u001b[0m\u001b[0;34m\u001b[0m\u001b[0m\n\u001b[0;32m--> 277\u001b[0;31m         \u001b[0mtime\u001b[0m\u001b[0;34m.\u001b[0m\u001b[0msleep\u001b[0m\u001b[0;34m(\u001b[0m\u001b[0mduration\u001b[0m\u001b[0;34m)\u001b[0m\u001b[0;34m\u001b[0m\u001b[0;34m\u001b[0m\u001b[0m\n\u001b[0m",
      "\u001b[0;31mKeyboardInterrupt\u001b[0m: "
     ]
    }
   ],
   "source": [
    "#env_reEngage_pub.publish(Reengage())\n",
    "r = rospy.Rate(TIME_FREQUENCY) # 15hz \n",
    "while not rospy.is_shutdown() and i < len(acts):\n",
    "    try:\n",
    "        pos_cmd_pub.publish(proprio_rpy_to_ROSmsg(acts[i,:]))\n",
    "        #env_reset_pub.publish(ag_to_ROSmsg(ags[i,:])) # shape (7,)\n",
    "        i += 1\n",
    "        print(i)\n",
    "    except Exception as e:\n",
    "        print(e)\n",
    "        break\n",
    "    r.sleep() # ros sleep for a little while before checking convergence again"
   ]
  },
  {
   "cell_type": "code",
   "execution_count": 21,
   "id": "12656ffe",
   "metadata": {},
   "outputs": [
    {
     "ename": "KeyboardInterrupt",
     "evalue": "",
     "output_type": "error",
     "traceback": [
      "\u001b[0;31m----------------------------------------------------\u001b[0m",
      "\u001b[0;31mKeyboardInterrupt\u001b[0m  Traceback (most recent call last)",
      "\u001b[0;32m<ipython-input-21-37185d60dfd4>\u001b[0m in \u001b[0;36m<module>\u001b[0;34m\u001b[0m\n\u001b[1;32m      2\u001b[0m \u001b[0;32mfor\u001b[0m \u001b[0mi\u001b[0m \u001b[0;32min\u001b[0m \u001b[0mrange\u001b[0m\u001b[0;34m(\u001b[0m\u001b[0;36m800\u001b[0m\u001b[0;34m,\u001b[0m \u001b[0mlen\u001b[0m\u001b[0;34m(\u001b[0m\u001b[0mproprio\u001b[0m\u001b[0;34m)\u001b[0m\u001b[0;34m)\u001b[0m\u001b[0;34m:\u001b[0m\u001b[0;34m\u001b[0m\u001b[0;34m\u001b[0m\u001b[0m\n\u001b[1;32m      3\u001b[0m     \u001b[0mreset_to\u001b[0m\u001b[0;34m(\u001b[0m\u001b[0mproprio\u001b[0m\u001b[0;34m[\u001b[0m\u001b[0mi\u001b[0m\u001b[0;34m,\u001b[0m\u001b[0;34m:\u001b[0m\u001b[0;34m]\u001b[0m\u001b[0;34m,\u001b[0m \u001b[0mags\u001b[0m\u001b[0;34m[\u001b[0m\u001b[0mi\u001b[0m\u001b[0;34m,\u001b[0m\u001b[0;34m:\u001b[0m\u001b[0;34m]\u001b[0m\u001b[0;34m)\u001b[0m\u001b[0;34m\u001b[0m\u001b[0;34m\u001b[0m\u001b[0m\n\u001b[0;32m----> 4\u001b[0;31m     \u001b[0mtime\u001b[0m\u001b[0;34m.\u001b[0m\u001b[0msleep\u001b[0m\u001b[0;34m(\u001b[0m\u001b[0;36m0.08\u001b[0m\u001b[0;34m)\u001b[0m\u001b[0;34m\u001b[0m\u001b[0;34m\u001b[0m\u001b[0m\n\u001b[0m",
      "\u001b[0;31mKeyboardInterrupt\u001b[0m: "
     ]
    }
   ],
   "source": [
    "import time\n",
    "for i in range(800, len(proprio)):\n",
    "    reset_to(proprio[i,:], ags[i,:])\n",
    "    time.sleep(0.04)"
   ]
  },
  {
   "cell_type": "code",
   "execution_count": 35,
   "id": "3318b1cf",
   "metadata": {
    "scrolled": true
   },
   "outputs": [
    {
     "data": {
      "text/plain": [
       "pos_x: -0.4428572952747345\n",
       "pos_y: 0.22392550110816956\n",
       "pos_z: 0.4295077919960022\n",
       "rot_r: 0.6223673820495605\n",
       "rot_p: -0.22585928440093994\n",
       "rot_y: -0.1272006332874298\n",
       "gripper: 0.9654262661933899"
      ]
     },
     "execution_count": 35,
     "metadata": {},
     "output_type": "execute_result"
    }
   ],
   "source": [
    "proprio_rpy_to_ROSmsg(proprio[idx,:])"
   ]
  },
  {
   "cell_type": "code",
   "execution_count": 12,
   "id": "e67197c3",
   "metadata": {},
   "outputs": [],
   "source": [
    "idx = 140\n",
    "pos_cmd_pub.publish(proprio_rpy_to_ROSmsg(proprio[idx,:]))"
   ]
  },
  {
   "cell_type": "code",
   "execution_count": 70,
   "id": "42fe90dc",
   "metadata": {},
   "outputs": [
    {
     "data": {
      "text/plain": [
       "{'timestep': 49859,\n",
       " 'data_arrival_time': 1617545058.4919775,\n",
       " 'model_processed_time': 1617545058.5428803,\n",
       " 'beat_sent_time': 1617545058.5368078,\n",
       " 'act_begin_time': 1617545058.5428731}"
      ]
     },
     "execution_count": 70,
     "metadata": {},
     "output_type": "execute_result"
    }
   ],
   "source": [
    "times[0]"
   ]
  },
  {
   "cell_type": "code",
   "execution_count": 48,
   "id": "b3231978",
   "metadata": {},
   "outputs": [],
   "source": [
    "# What we can do is say the beat sent time is the 'centre', thats 0\n",
    "# then the order should be data_arrival, beat_sent, act_begin, model_processed\n",
    "# therefore we can create a histogram for each of these around 0\n",
    "da, ab, mp = [], [], []\n",
    "\n",
    "for t in times:\n",
    "    beat = t['beat_sent_time']\n",
    "    da.append(t['data_arrival_time']- beat)\n",
    "    #bs.append(beat)\n",
    "    ab.append(t['act_begin_time'] - beat)\n",
    "    mp.append(t['model_processed_time'] - beat)\n",
    "    \n",
    "bs = []\n",
    "for i in range(0,len(times)-1):\n",
    "    bs.append(times[i+1]['beat_sent_time'] - times[i]['beat_sent_time'])\n",
    "    \n"
   ]
  },
  {
   "cell_type": "code",
   "execution_count": 49,
   "id": "bb1c0b6e",
   "metadata": {},
   "outputs": [
    {
     "data": {
      "image/png": "[encoded data removed]",
      "text/plain": [
       "<Figure size 432x288 with 3 Axes>"
      ]
     },
     "metadata": {
      "needs_background": "light"
     },
     "output_type": "display_data"
    }
   ],
   "source": [
    "import matplotlib.pyplot as plt\n",
    "fig, axs = plt.subplots(3)\n",
    "left, right = -1/TIME_FREQUENCY, 1/TIME_FREQUENCY\n",
    "axs[0].hist(da)\n",
    "axs[1].hist(ab)\n",
    "axs[2].hist(mp)\n",
    "\n",
    "for i in range(0,len(axs)):\n",
    "    axs[i].set_xlim(left=left, right=right)\n",
    "    "
   ]
  },
  {
   "cell_type": "code",
   "execution_count": 64,
   "id": "53a893f3",
   "metadata": {},
   "outputs": [
    {
     "data": {
      "text/plain": [
       "(array([  2.,   0.,   3.,   2.,  46., 182.,   2.,   3.,   0.,   2.]),\n",
       " array([0.06659007, 0.06660538, 0.06662068, 0.06663599, 0.0666513 ,\n",
       "        0.0666666 , 0.06668191, 0.06669722, 0.06671252, 0.06672783,\n",
       "        0.06674314]),\n",
       " <a list of 10 Patch objects>)"
      ]
     },
     "execution_count": 64,
     "metadata": {},
     "output_type": "execute_result"
    },
    {
     "data": {
      "image/png": "[encoded data removed]",
      "text/plain": [
       "<Figure size 432x288 with 1 Axes>"
      ]
     },
     "metadata": {
      "needs_background": "light"
     },
     "output_type": "display_data"
    }
   ],
   "source": [
    "plt.hist(bs)"
   ]
  },
  {
   "cell_type": "code",
   "execution_count": null,
   "id": "44451d4c",
   "metadata": {},
   "outputs": [],
   "source": []
  }
 ],
 "metadata": {
  "kernelspec": {
   "display_name": "Python 3",
   "language": "python",
   "name": "python3"
  },
  "language_info": {
   "codemirror_mode": {
    "name": "ipython",
    "version": 3
   },
   "file_extension": ".py",
   "mimetype": "text/x-python",
   "name": "python",
   "nbconvert_exporter": "python",
   "pygments_lexer": "ipython3",
   "version": "3.8.5"
  }
 },
 "nbformat": 4,
 "nbformat_minor": 5
}
