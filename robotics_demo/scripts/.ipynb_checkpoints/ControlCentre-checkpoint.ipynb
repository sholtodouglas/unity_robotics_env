{
 "cells": [
  {
   "cell_type": "code",
   "execution_count": 8,
   "id": "989da68b",
   "metadata": {},
   "outputs": [],
   "source": [
    "import rospy\n",
    "from robotics_demo.msg import AchievedGoal, PositionCommand, RPYProprioState\n",
    "from robotics_demo.srv import getIK, getIKResponse"
   ]
  },
  {
   "cell_type": "code",
   "execution_count": 2,
   "id": "b85b1008",
   "metadata": {},
   "outputs": [
    {
     "name": "stdout",
     "output_type": "stream",
     "text": [
      "current_dir=/catkin_ws/src/unity_robotics_env/robotics_demo/scripts\n"
     ]
    }
   ],
   "source": [
    "import numpy as np\n",
    "import os, inspect\n",
    "currentdir = os.path.dirname(os.path.abspath(inspect.getfile(inspect.currentframe())))\n",
    "print(\"current_dir=\" + currentdir)\n",
    "os.sys.path.insert(0, currentdir)\n",
    "from utils import rosImg_to_numpy, proprio_quat_to_rpy_vector, proprio_rpy_to_ROSmsg, ag_to_vector, ag_to_ROSmsg, proprio_rpy_to_rpy_vector, unstack"
   ]
  },
  {
   "cell_type": "code",
   "execution_count": 3,
   "id": "29c495a4",
   "metadata": {},
   "outputs": [],
   "source": [
    "# The publisher which sends out position commands that then get converted to joint commands by the IK node\n",
    "pos_cmd_pub = rospy.Publisher('xyz_rpy_g_command', PositionCommand, queue_size=1)\n",
    "# The publisher which resets the non_arm elements of the state\n",
    "env_reset_pub = rospy.Publisher('reset_environment', AchievedGoal, queue_size=1)\n",
    "# service to get IK \n",
    "IK = rospy.ServiceProxy('get_IK', getIK)"
   ]
  },
  {
   "cell_type": "code",
   "execution_count": 4,
   "id": "29ed520b",
   "metadata": {},
   "outputs": [
    {
     "name": "stdout",
     "output_type": "stream",
     "text": [
      "['4', '7', '9', '5', '8', '0', '2', '10', '1', '6', '3']\n"
     ]
    }
   ],
   "source": [
    "# First things first, lets load some data! \n",
    "DATA_PATH = os.getcwd()[:-(len(\"/unity_robotics_env/robotics_demo/scripts\"))]+'/data/UR5/'\n",
    "OBS_ACT_PATH = DATA_PATH+'obs_act_etc/'\n",
    "IMS_PATH = DATA_PATH+'states_and_ims/'\n",
    "TIME_FREQUENCY = 15\n",
    "print(os.listdir(OBS_ACT_PATH))"
   ]
  },
  {
   "cell_type": "code",
   "execution_count": 5,
   "id": "835d7caf",
   "metadata": {},
   "outputs": [],
   "source": [
    "rospy.init_node('jupyter')"
   ]
  },
  {
   "cell_type": "code",
   "execution_count": 12,
   "id": "fa146339",
   "metadata": {},
   "outputs": [
    {
     "data": {
      "text/plain": [
       "pos_x: -0.4\n",
       "pos_y: 0.2\n",
       "pos_z: 0.0\n",
       "rot_r: 0.0\n",
       "rot_p: 0.0\n",
       "rot_y: 0.0\n",
       "gripper: 0.0"
      ]
     },
     "execution_count": 12,
     "metadata": {},
     "output_type": "execute_result"
    }
   ],
   "source": [
    "default_vr_controller_pos =  RPYProprioState(-0.4, 0.2, 0.0,0.0,0.0,0.0,0.0)\n",
    "default_vr_controller_pos"
   ]
  },
  {
   "cell_type": "code",
   "execution_count": 16,
   "id": "2ca6908e",
   "metadata": {},
   "outputs": [
    {
     "data": {
      "text/plain": [
       "joints: \n",
       "  shoulder: -51.10947799682617\n",
       "  upper_arm: -12.771947860717773\n",
       "  forearm: -109.44842529296875\n",
       "  wrist_1: -57.85236740112305\n",
       "  wrist_2: 38.84491729736328\n",
       "  wrist_3: 0.05662793293595314\n",
       "  gripper: 0.0\n",
       "  time: 1617689269.144948"
      ]
     },
     "execution_count": 16,
     "metadata": {},
     "output_type": "execute_result"
    }
   ],
   "source": [
    "IK(default_vr_controller_pos)"
   ]
  },
  {
   "cell_type": "code",
   "execution_count": null,
   "id": "fa2f958c",
   "metadata": {},
   "outputs": [],
   "source": [
    "# Send out a joint command for the recorded actions\n",
    "# Get IK for actual position\n",
    "# Package into ResetInfo\n",
    "# Send down\n",
    "# while not shutdown, check convergence\n",
    "# if converged, or time elapsed, then use latest obs images as the image\n",
    "# begin playing out actions"
   ]
  },
  {
   "cell_type": "code",
   "execution_count": 7,
   "id": "28e4a2d0",
   "metadata": {},
   "outputs": [],
   "source": [
    "pos_cmd_pub.publish(default_vr_controller_pos)"
   ]
  },
  {
   "cell_type": "code",
   "execution_count": 62,
   "id": "f1c9627f",
   "metadata": {},
   "outputs": [],
   "source": [
    "test = np.load(f\"{OBS_ACT_PATH}/6/data.npz\", allow_pickle=True)\n",
    "obs, acts, ags, times = test['obs'], test['acts'], test['achieved_goals'], test['times']\n",
    "proprio = obs[:, :7]"
   ]
  },
  {
   "cell_type": "code",
   "execution_count": 35,
   "id": "3318b1cf",
   "metadata": {},
   "outputs": [
    {
     "data": {
      "text/plain": [
       "pos_x: -0.4428572952747345\n",
       "pos_y: 0.22392550110816956\n",
       "pos_z: 0.4295077919960022\n",
       "rot_r: 0.6223673820495605\n",
       "rot_p: -0.22585928440093994\n",
       "rot_y: -0.1272006332874298\n",
       "gripper: 0.9654262661933899"
      ]
     },
     "execution_count": 35,
     "metadata": {},
     "output_type": "execute_result"
    }
   ],
   "source": [
    "proprio_rpy_to_ROSmsg(proprio[idx,:])"
   ]
  },
  {
   "cell_type": "code",
   "execution_count": 65,
   "id": "e67197c3",
   "metadata": {},
   "outputs": [],
   "source": [
    "idx = 140\n",
    "pos_cmd_pub.publish(proprio_rpy_to_ROSmsg(proprio[idx,:]))\n",
    "env_reset_pub.publish(ag_to_ROSmsg(ags[idx,:]))"
   ]
  },
  {
   "cell_type": "code",
   "execution_count": 53,
   "id": "c41d1b7b",
   "metadata": {},
   "outputs": [
    {
     "name": "stdout",
     "output_type": "stream",
     "text": [
      "141\n",
      "142\n",
      "143\n",
      "144\n",
      "145\n",
      "146\n",
      "147\n",
      "148\n",
      "149\n",
      "150\n",
      "151\n",
      "152\n",
      "153\n",
      "154\n",
      "155\n",
      "156\n",
      "157\n",
      "158\n",
      "159\n",
      "160\n",
      "161\n",
      "162\n",
      "163\n",
      "164\n",
      "165\n",
      "166\n",
      "167\n",
      "168\n",
      "169\n",
      "170\n",
      "171\n",
      "172\n",
      "173\n",
      "174\n",
      "175\n",
      "176\n",
      "177\n",
      "178\n",
      "179\n",
      "180\n",
      "181\n",
      "182\n",
      "183\n",
      "184\n",
      "185\n",
      "186\n",
      "187\n",
      "188\n",
      "189\n",
      "190\n",
      "191\n",
      "192\n",
      "193\n",
      "194\n",
      "195\n",
      "196\n",
      "197\n",
      "198\n",
      "199\n",
      "200\n",
      "201\n",
      "202\n",
      "203\n",
      "204\n",
      "205\n",
      "206\n",
      "207\n",
      "208\n",
      "209\n",
      "210\n",
      "211\n",
      "212\n",
      "213\n",
      "214\n",
      "215\n",
      "216\n",
      "217\n",
      "218\n",
      "219\n",
      "220\n",
      "221\n",
      "222\n",
      "223\n",
      "224\n",
      "225\n",
      "226\n",
      "227\n",
      "228\n",
      "229\n",
      "230\n",
      "231\n",
      "232\n",
      "233\n",
      "234\n",
      "235\n",
      "236\n",
      "237\n",
      "238\n",
      "239\n",
      "240\n",
      "241\n",
      "242\n",
      "243\n"
     ]
    }
   ],
   "source": [
    "r = rospy.Rate(TIME_FREQUENCY) # 15hz \n",
    "i = idx\n",
    "while not rospy.is_shutdown() and i < len(acts):\n",
    "    try:\n",
    "        pos_cmd_pub.publish(proprio_rpy_to_ROSmsg(acts[i,:]))\n",
    "        #env_reset_pub.publish(ag_to_ROSmsg(ags[i,:])) # shape (7,)\n",
    "        i += 1\n",
    "        print(i)\n",
    "    except Exception as e:\n",
    "        print(e)\n",
    "        break\n",
    "    r.sleep() # ros sleep for a little while before checking convergence again"
   ]
  },
  {
   "cell_type": "code",
   "execution_count": 70,
   "id": "42fe90dc",
   "metadata": {},
   "outputs": [
    {
     "data": {
      "text/plain": [
       "{'timestep': 49859,\n",
       " 'data_arrival_time': 1617545058.4919775,\n",
       " 'model_processed_time': 1617545058.5428803,\n",
       " 'beat_sent_time': 1617545058.5368078,\n",
       " 'act_begin_time': 1617545058.5428731}"
      ]
     },
     "execution_count": 70,
     "metadata": {},
     "output_type": "execute_result"
    }
   ],
   "source": [
    "times[0]"
   ]
  },
  {
   "cell_type": "code",
   "execution_count": 55,
   "id": "b3231978",
   "metadata": {},
   "outputs": [],
   "source": [
    "# What we can do is say the beat sent time is the 'centre', thats 0\n",
    "# then the order should be data_arrival, beat_sent, act_begin, model_processed\n",
    "# therefore we can create a histogram for each of these around 0\n",
    "da, ab, mp = [], [], []\n",
    "\n",
    "for t in times:\n",
    "    beat = t['beat_sent_time']\n",
    "    da.append(t['data_arrival_time']- beat)\n",
    "    #bs.append(beat)\n",
    "    ab.append(t['act_begin_time'] - beat)\n",
    "    mp.append(t['model_processed_time'] - beat)\n",
    "    \n",
    "bs = []\n",
    "for i in range(0,len(times)-1):\n",
    "    bs.append(times[i+1]['beat_sent_time'] - times[i]['beat_sent_time'])\n",
    "    \n"
   ]
  },
  {
   "cell_type": "code",
   "execution_count": 63,
   "id": "bb1c0b6e",
   "metadata": {},
   "outputs": [
    {
     "data": {
      "image/png": "[encoded data removed]",
      "text/plain": [
       "<Figure size 432x288 with 3 Axes>"
      ]
     },
     "metadata": {
      "needs_background": "light"
     },
     "output_type": "display_data"
    }
   ],
   "source": [
    "import matplotlib.pyplot as plt\n",
    "fig, axs = plt.subplots(3)\n",
    "left, right = -1/TIME_FREQUENCY, 1/TIME_FREQUENCY\n",
    "axs[0].hist(da)\n",
    "axs[1].hist(ab)\n",
    "axs[2].hist(mp)\n",
    "\n",
    "for i in range(0,len(axs)):\n",
    "    axs[i].set_xlim(left=left, right=right)\n",
    "    "
   ]
  },
  {
   "cell_type": "code",
   "execution_count": 64,
   "id": "53a893f3",
   "metadata": {},
   "outputs": [
    {
     "data": {
      "text/plain": [
       "(array([  2.,   0.,   3.,   2.,  46., 182.,   2.,   3.,   0.,   2.]),\n",
       " array([0.06659007, 0.06660538, 0.06662068, 0.06663599, 0.0666513 ,\n",
       "        0.0666666 , 0.06668191, 0.06669722, 0.06671252, 0.06672783,\n",
       "        0.06674314]),\n",
       " <a list of 10 Patch objects>)"
      ]
     },
     "execution_count": 64,
     "metadata": {},
     "output_type": "execute_result"
    },
    {
     "data": {
      "image/png": "[encoded data removed]",
      "text/plain": [
       "<Figure size 432x288 with 1 Axes>"
      ]
     },
     "metadata": {
      "needs_background": "light"
     },
     "output_type": "display_data"
    }
   ],
   "source": [
    "plt.hist(bs)"
   ]
  },
  {
   "cell_type": "code",
   "execution_count": null,
   "id": "44451d4c",
   "metadata": {},
   "outputs": [],
   "source": []
  }
 ],
 "metadata": {
  "kernelspec": {
   "display_name": "Python 3",
   "language": "python",
   "name": "python3"
  },
  "language_info": {
   "codemirror_mode": {
    "name": "ipython",
    "version": 3
   },
   "file_extension": ".py",
   "mimetype": "text/x-python",
   "name": "python",
   "nbconvert_exporter": "python",
   "pygments_lexer": "ipython3",
   "version": "3.8.5"
  }
 },
 "nbformat": 4,
 "nbformat_minor": 5
}
