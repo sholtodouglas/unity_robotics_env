{
 "cells": [
  {
   "cell_type": "code",
   "execution_count": 4,
   "id": "29ed520b",
   "metadata": {},
   "outputs": [
    {
     "data": {
      "text/plain": [
       "['0', '1', '10', '11', '2', '3', '4', '5', '6', '7', '8', '9']"
      ]
     },
     "execution_count": 4,
     "metadata": {},
     "output_type": "execute_result"
    }
   ],
   "source": [
    "# First things first, lets load some data! \n",
    "import os\n",
    "import numpy as np\n",
    "DATA_PATH = os.getcwd()[:-(len(\"/robotics_demo/scripts\"))]+'/data/UR5/'\n",
    "OBS_ACT_PATH = DATA_PATH+'obs_act_etc/'\n",
    "IMS_PATH = DATA_PATH+'states_and_ims/'\n",
    "TIME_FREQUENCY = 15\n",
    "os.listdir(OBS_ACT_PATH)"
   ]
  },
  {
   "cell_type": "code",
   "execution_count": 28,
   "id": "9b4cb20d",
   "metadata": {},
   "outputs": [
    {
     "name": "stdout",
     "output_type": "stream",
     "text": [
      "5780 0 []\n",
      "2310 1 []\n",
      "1643 10 []\n",
      "235 11 []\n",
      "349 2 []\n",
      "2129 3 []\n",
      "2363 4 []\n",
      "2746 5 []\n",
      "3192 6 []\n",
      "3620 7 []\n",
      "1838 8 []\n",
      "2908 9 []\n",
      "29113\n"
     ]
    }
   ],
   "source": [
    "collected = 0\n",
    "for i in os.listdir(OBS_ACT_PATH):\n",
    "    test = np.load(f\"{OBS_ACT_PATH}/{int(i)}/data.npz\", allow_pickle=True)\n",
    "    obs, acts, ags, times = test['obs'], test['acts'], test['achieved_goals'], test['times']\n",
    "    collected += len(obs)\n",
    "    nan_rows = np.where(np.isnan(obs) == True)[0]\n",
    "    #first_nan = nan_rows[0]\n",
    "    print(len(obs), i, nan_rows)\n",
    "print(collected)"
   ]
  },
  {
   "cell_type": "code",
   "execution_count": 27,
   "id": "e920be9d",
   "metadata": {},
   "outputs": [
    {
     "ename": "IndexError",
     "evalue": "index 0 is out of bounds for axis 0 with size 0",
     "output_type": "error",
     "traceback": [
      "\u001b[0;31m---------------------------------------------------------------------------\u001b[0m",
      "\u001b[0;31mIndexError\u001b[0m                                Traceback (most recent call last)",
      "\u001b[0;32m<ipython-input-27-da4c8927584c>\u001b[0m in \u001b[0;36m<module>\u001b[0;34m\u001b[0m\n\u001b[1;32m      4\u001b[0m \u001b[0mcollected\u001b[0m \u001b[0;34m+=\u001b[0m \u001b[0mlen\u001b[0m\u001b[0;34m(\u001b[0m\u001b[0mobs\u001b[0m\u001b[0;34m)\u001b[0m\u001b[0;34m\u001b[0m\u001b[0;34m\u001b[0m\u001b[0m\n\u001b[1;32m      5\u001b[0m \u001b[0mnan_rows\u001b[0m \u001b[0;34m=\u001b[0m \u001b[0mnp\u001b[0m\u001b[0;34m.\u001b[0m\u001b[0mwhere\u001b[0m\u001b[0;34m(\u001b[0m\u001b[0mnp\u001b[0m\u001b[0;34m.\u001b[0m\u001b[0misnan\u001b[0m\u001b[0;34m(\u001b[0m\u001b[0mobs\u001b[0m\u001b[0;34m)\u001b[0m \u001b[0;34m==\u001b[0m \u001b[0;32mTrue\u001b[0m\u001b[0;34m)\u001b[0m\u001b[0;34m[\u001b[0m\u001b[0;36m0\u001b[0m\u001b[0;34m]\u001b[0m\u001b[0;34m\u001b[0m\u001b[0;34m\u001b[0m\u001b[0m\n\u001b[0;32m----> 6\u001b[0;31m \u001b[0mfirst_nan\u001b[0m \u001b[0;34m=\u001b[0m \u001b[0mnan_rows\u001b[0m\u001b[0;34m[\u001b[0m\u001b[0;36m0\u001b[0m\u001b[0;34m]\u001b[0m\u001b[0;34m\u001b[0m\u001b[0;34m\u001b[0m\u001b[0m\n\u001b[0m",
      "\u001b[0;31mIndexError\u001b[0m: index 0 is out of bounds for axis 0 with size 0"
     ]
    }
   ],
   "source": [
    "i = 6\n",
    "test = np.load(f\"{OBS_ACT_PATH}/{i}/data.npz\", allow_pickle=True)\n",
    "obs, acts, ags, times = test['obs'], test['acts'], test['achieved_goals'], test['times']\n",
    "collected += len(obs)\n",
    "nan_rows = np.where(np.isnan(obs) == True)[0]\n",
    "first_nan = nan_rows[0]"
   ]
  },
  {
   "cell_type": "code",
   "execution_count": 26,
   "id": "6dc99b9d",
   "metadata": {},
   "outputs": [
    {
     "data": {
      "text/plain": [
       "(array([3192, 3192, 3192, 3193, 3193, 3193, 3194, 3194, 3194, 3195, 3195,\n",
       "        3195, 3196, 3196, 3196, 3197, 3197, 3197, 3198, 3198, 3198, 3199,\n",
       "        3199, 3199, 3200, 3200, 3200, 3201, 3201, 3201, 3202, 3202, 3202,\n",
       "        3203, 3203, 3203, 3204, 3204, 3204, 3205, 3205, 3205, 3206, 3206,\n",
       "        3206, 3207, 3207, 3207, 3208, 3208, 3208, 3209, 3209, 3209, 3210,\n",
       "        3210, 3210, 3211, 3211, 3211, 3212, 3212, 3212, 3213, 3213, 3213]),\n",
       " array([0, 1, 2, 0, 1, 2, 0, 1, 2, 0, 1, 2, 0, 1, 2, 0, 1, 2, 0, 1, 2, 0,\n",
       "        1, 2, 0, 1, 2, 0, 1, 2, 0, 1, 2, 0, 1, 2, 0, 1, 2, 0, 1, 2, 0, 1,\n",
       "        2, 0, 1, 2, 0, 1, 2, 0, 1, 2, 0, 1, 2, 0, 1, 2, 0, 1, 2, 0, 1, 2]))"
      ]
     },
     "execution_count": 26,
     "metadata": {},
     "output_type": "execute_result"
    }
   ],
   "source": [
    "np.savez(f\"{OBS_ACT_PATH}/{i}/data\", acts = acts[:first_nan], obs=obs[:first_nan], achieved_goals = ags[:first_nan], times=times[:first_nan], allow_pickle=True)"
   ]
  },
  {
   "cell_type": "code",
   "execution_count": 37,
   "id": "bb91665d",
   "metadata": {},
   "outputs": [],
   "source": [
    "first_nan = 3192\n",
    "path = IMS_PATH+\"/6/env_images\"\n",
    "for i in os.listdir(path):\n",
    "    num = int(i.split(\"_\")[0])\n",
    "    if num >= first_nan:\n",
    "        os.remove(path+'/'+i)\n",
    "        print(i)"
   ]
  },
  {
   "cell_type": "code",
   "execution_count": null,
   "id": "282657c3",
   "metadata": {},
   "outputs": [],
   "source": []
  }
 ],
 "metadata": {
  "kernelspec": {
   "display_name": "Python 3",
   "language": "python",
   "name": "python3"
  },
  "language_info": {
   "codemirror_mode": {
    "name": "ipython",
    "version": 3
   },
   "file_extension": ".py",
   "mimetype": "text/x-python",
   "name": "python",
   "nbconvert_exporter": "python",
   "pygments_lexer": "ipython3",
   "version": "3.8.5"
  }
 },
 "nbformat": 4,
 "nbformat_minor": 5
}
