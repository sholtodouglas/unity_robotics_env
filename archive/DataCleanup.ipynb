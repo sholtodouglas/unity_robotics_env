{
 "cells": [
  {
   "cell_type": "code",
   "execution_count": 2,
   "id": "29ed520b",
   "metadata": {},
   "outputs": [
    {
     "data": {
      "text/plain": [
       "['0',\n",
       " '1',\n",
       " '10',\n",
       " '11',\n",
       " '12',\n",
       " '13',\n",
       " '14',\n",
       " '15',\n",
       " '16',\n",
       " '17',\n",
       " '18',\n",
       " '19',\n",
       " '2',\n",
       " '20',\n",
       " '21',\n",
       " '22',\n",
       " '23',\n",
       " '24',\n",
       " '25',\n",
       " '26',\n",
       " '27',\n",
       " '3',\n",
       " '4',\n",
       " '5',\n",
       " '6',\n",
       " '7',\n",
       " '8',\n",
       " '9']"
      ]
     },
     "execution_count": 2,
     "metadata": {},
     "output_type": "execute_result"
    }
   ],
   "source": [
    "# First things first, lets load some data! \n",
    "import os\n",
    "import numpy as np\n",
    "DATA_PATH = os.getcwd()[:-(len(\"unity_robotics_env/robotics_demo/scripts\"))]+'/learning_from_play/data/UR5_train/'\n",
    "OBS_ACT_PATH = DATA_PATH+'obs_act_etc/'\n",
    "IMS_PATH = DATA_PATH+'states_and_ims/'\n",
    "TIME_FREQUENCY = 15\n",
    "os.listdir(OBS_ACT_PATH)"
   ]
  },
  {
   "cell_type": "code",
   "execution_count": 8,
   "id": "9b4cb20d",
   "metadata": {},
   "outputs": [
    {
     "name": "stdout",
     "output_type": "stream",
     "text": [
      "279 0 []\n",
      "304 1 []\n",
      "3286 10 []\n",
      "10003 11 []\n",
      "240 12 []\n",
      "5453 13 []\n",
      "6585 14 []\n",
      "8695 15 []\n",
      "467 16 []\n",
      "6651 17 []\n",
      "2998 18 []\n",
      "12175 19 []\n",
      "462 2 []\n",
      "5767 20 []\n",
      "8816 21 []\n",
      "10002 22 []\n",
      "2951 23 []\n",
      "6509 24 []\n",
      "7305 25 []\n",
      "770 26 []\n",
      "5054 27 []\n",
      "2896 3 []\n",
      "5921 4 []\n",
      "6104 5 []\n",
      "1554 6 []\n",
      "558 7 []\n",
      "4073 8 []\n",
      "3027 9 []\n",
      "128905\n"
     ]
    }
   ],
   "source": [
    "collected = 0\n",
    "for i in os.listdir(OBS_ACT_PATH):\n",
    "    test = np.load(f\"{OBS_ACT_PATH}/{int(i)}/data.npz\", allow_pickle=True)\n",
    "    obs, acts, ags, times = test['obs'], test['acts'], test['achieved_goals'], test['times']\n",
    "    collected += len(obs)\n",
    "    nan_rows = np.where(np.isnan(obs) == True)[0]\n",
    "    #first_nan = nan_rows[0]\n",
    "    print(len(obs), i, nan_rows)\n",
    "print(collected)"
   ]
  },
  {
   "cell_type": "code",
   "execution_count": 6,
   "id": "e920be9d",
   "metadata": {},
   "outputs": [],
   "source": [
    "i = 18\n",
    "test = np.load(f\"{OBS_ACT_PATH}/{i}/data.npz\", allow_pickle=True)\n",
    "obs, acts, ags, times = test['obs'], test['acts'], test['achieved_goals'], test['times']\n",
    "collected += len(obs)\n",
    "nan_rows = np.where(np.isnan(obs) == True)[0]\n",
    "first_nan = 2998# nan_rows[0]"
   ]
  },
  {
   "cell_type": "code",
   "execution_count": 7,
   "id": "6dc99b9d",
   "metadata": {},
   "outputs": [],
   "source": [
    "np.savez(f\"{OBS_ACT_PATH}/{i}/data\", acts = acts[:first_nan], obs=obs[:first_nan], achieved_goals = ags[:first_nan], times=times[:first_nan], allow_pickle=True)"
   ]
  },
  {
   "cell_type": "code",
   "execution_count": 37,
   "id": "bb91665d",
   "metadata": {},
   "outputs": [],
   "source": [
    "first_nan = 3192\n",
    "path = IMS_PATH+\"/6/env_images\"\n",
    "for i in os.listdir(path):\n",
    "    num = int(i.split(\"_\")[0])\n",
    "    if num >= first_nan:\n",
    "        os.remove(path+'/'+i)\n",
    "        print(i)"
   ]
  },
  {
   "cell_type": "code",
   "execution_count": null,
   "id": "282657c3",
   "metadata": {},
   "outputs": [],
   "source": []
  }
 ],
 "metadata": {
  "kernelspec": {
   "display_name": "Python 3",
   "language": "python",
   "name": "python3"
  },
  "language_info": {
   "codemirror_mode": {
    "name": "ipython",
    "version": 3
   },
   "file_extension": ".py",
   "mimetype": "text/x-python",
   "name": "python",
   "nbconvert_exporter": "python",
   "pygments_lexer": "ipython3",
   "version": "3.8.5"
  }
 },
 "nbformat": 4,
 "nbformat_minor": 5
}
